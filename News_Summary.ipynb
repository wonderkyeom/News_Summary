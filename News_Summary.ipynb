{
 "cells": [
  {
   "cell_type": "code",
   "execution_count": 1,
   "metadata": {},
   "outputs": [
    {
     "data": {
      "text/plain": [
       "[PhysicalDevice(name='/physical_device:GPU:0', device_type='GPU')]"
      ]
     },
     "execution_count": 1,
     "metadata": {},
     "output_type": "execute_result"
    }
   ],
   "source": [
    "import tensorflow as tf\n",
    "tf.config.list_physical_devices('GPU')"
   ]
  },
  {
   "cell_type": "code",
   "execution_count": 2,
   "metadata": {},
   "outputs": [
    {
     "name": "stderr",
     "output_type": "stream",
     "text": [
      "[nltk_data] Downloading package stopwords to /home/ssac2/nltk_data...\n",
      "[nltk_data]   Package stopwords is already up-to-date!\n"
     ]
    }
   ],
   "source": [
    "import numpy as np\n",
    "import pandas as pd\n",
    "import urllib.request\n",
    "import nltk\n",
    "nltk.download('stopwords')\n",
    "import os\n",
    "from nltk.corpus import stopwords\n",
    "from bs4 import BeautifulSoup\n",
    "import re\n",
    "import matplotlib.pyplot as plt\n",
    "from tensorflow.keras.preprocessing.text import Tokenizer \n",
    "from tensorflow.keras.preprocessing.sequence import pad_sequences"
   ]
  },
  {
   "cell_type": "markdown",
   "metadata": {},
   "source": [
    "# Step 1. 데이터 수집하기"
   ]
  },
  {
   "cell_type": "code",
   "execution_count": 3,
   "metadata": {},
   "outputs": [],
   "source": [
    "urllib.request.urlretrieve(\"https://raw.githubusercontent.com/sunnysai12345/News_Summary/master/news_summary_more.csv\", filename=\"news_summary_more.csv\")\n",
    "data = pd.read_csv('news_summary_more.csv', encoding='iso-8859-1')"
   ]
  },
  {
   "cell_type": "code",
   "execution_count": 4,
   "metadata": {},
   "outputs": [
    {
     "data": {
      "text/html": [
       "<div>\n",
       "<style scoped>\n",
       "    .dataframe tbody tr th:only-of-type {\n",
       "        vertical-align: middle;\n",
       "    }\n",
       "\n",
       "    .dataframe tbody tr th {\n",
       "        vertical-align: top;\n",
       "    }\n",
       "\n",
       "    .dataframe thead th {\n",
       "        text-align: right;\n",
       "    }\n",
       "</style>\n",
       "<table border=\"1\" class=\"dataframe\">\n",
       "  <thead>\n",
       "    <tr style=\"text-align: right;\">\n",
       "      <th></th>\n",
       "      <th>headlines</th>\n",
       "      <th>text</th>\n",
       "    </tr>\n",
       "  </thead>\n",
       "  <tbody>\n",
       "    <tr>\n",
       "      <th>2767</th>\n",
       "      <td>Solve farmers' issues, then talk about coaliti...</td>\n",
       "      <td>Shiv Sena chief Uddhav Thackeray took a dig at...</td>\n",
       "    </tr>\n",
       "    <tr>\n",
       "      <th>51749</th>\n",
       "      <td>Scientists developing poison-based male contra...</td>\n",
       "      <td>US-based researchers are developing a male con...</td>\n",
       "    </tr>\n",
       "    <tr>\n",
       "      <th>40387</th>\n",
       "      <td>Air India finds no buyers as deadline expires ...</td>\n",
       "      <td>The government has not received any bids for A...</td>\n",
       "    </tr>\n",
       "    <tr>\n",
       "      <th>31036</th>\n",
       "      <td>Pierre Curie rejected Nobel Prize unless share...</td>\n",
       "      <td>Born on May 15, 1859, French scientist Pierre ...</td>\n",
       "    </tr>\n",
       "    <tr>\n",
       "      <th>40312</th>\n",
       "      <td>Corruption is on a rise as compared to last go...</td>\n",
       "      <td>Listing the reasons of BJP's loss in Kairana a...</td>\n",
       "    </tr>\n",
       "    <tr>\n",
       "      <th>40776</th>\n",
       "      <td>Mum Police uses ball-tampering row meme to spr...</td>\n",
       "      <td>The Mumbai Police on Friday used the reference...</td>\n",
       "    </tr>\n",
       "    <tr>\n",
       "      <th>32130</th>\n",
       "      <td>Levitating water drops can improve impurity de...</td>\n",
       "      <td>A US-based study has shown that using sound wa...</td>\n",
       "    </tr>\n",
       "    <tr>\n",
       "      <th>58879</th>\n",
       "      <td>Lok Sabha appoints its first woman Secretary G...</td>\n",
       "      <td>Snehlata Shrivastava has been appointed as the...</td>\n",
       "    </tr>\n",
       "    <tr>\n",
       "      <th>7750</th>\n",
       "      <td>UP police inspector killed in clashes over ill...</td>\n",
       "      <td>Subodh Kumar Singh, a Station House Officer (S...</td>\n",
       "    </tr>\n",
       "    <tr>\n",
       "      <th>45136</th>\n",
       "      <td>Goa CM Parrikar to travel to Mumbai for medica...</td>\n",
       "      <td>Goa Chief Minister Manohar Parrikar will trave...</td>\n",
       "    </tr>\n",
       "  </tbody>\n",
       "</table>\n",
       "</div>"
      ],
      "text/plain": [
       "                                               headlines  \\\n",
       "2767   Solve farmers' issues, then talk about coaliti...   \n",
       "51749  Scientists developing poison-based male contra...   \n",
       "40387  Air India finds no buyers as deadline expires ...   \n",
       "31036  Pierre Curie rejected Nobel Prize unless share...   \n",
       "40312  Corruption is on a rise as compared to last go...   \n",
       "40776  Mum Police uses ball-tampering row meme to spr...   \n",
       "32130  Levitating water drops can improve impurity de...   \n",
       "58879  Lok Sabha appoints its first woman Secretary G...   \n",
       "7750   UP police inspector killed in clashes over ill...   \n",
       "45136  Goa CM Parrikar to travel to Mumbai for medica...   \n",
       "\n",
       "                                                    text  \n",
       "2767   Shiv Sena chief Uddhav Thackeray took a dig at...  \n",
       "51749  US-based researchers are developing a male con...  \n",
       "40387  The government has not received any bids for A...  \n",
       "31036  Born on May 15, 1859, French scientist Pierre ...  \n",
       "40312  Listing the reasons of BJP's loss in Kairana a...  \n",
       "40776  The Mumbai Police on Friday used the reference...  \n",
       "32130  A US-based study has shown that using sound wa...  \n",
       "58879  Snehlata Shrivastava has been appointed as the...  \n",
       "7750   Subodh Kumar Singh, a Station House Officer (S...  \n",
       "45136  Goa Chief Minister Manohar Parrikar will trave...  "
      ]
     },
     "execution_count": 4,
     "metadata": {},
     "output_type": "execute_result"
    }
   ],
   "source": [
    "data.sample(10)"
   ]
  },
  {
   "cell_type": "code",
   "execution_count": 5,
   "metadata": {},
   "outputs": [
    {
     "data": {
      "text/plain": [
       "98401"
      ]
     },
     "execution_count": 5,
     "metadata": {},
     "output_type": "execute_result"
    }
   ],
   "source": [
    "len(data)"
   ]
  },
  {
   "cell_type": "markdown",
   "metadata": {},
   "source": [
    "# Step 2. 데이터 전처리하기 (추상적 요약)"
   ]
  },
  {
   "cell_type": "code",
   "execution_count": 6,
   "metadata": {},
   "outputs": [
    {
     "name": "stdout",
     "output_type": "stream",
     "text": [
      "headlines 열에서 중복을 배제한 유일한 샘플의 수 : 98280\n",
      "text 열에서 중복을 배제한 유일한 샘플의 수 : 98360\n"
     ]
    }
   ],
   "source": [
    "print('headlines 열에서 중복을 배제한 유일한 샘플의 수 :', data['headlines'].nunique())\n",
    "print('text 열에서 중복을 배제한 유일한 샘플의 수 :', data['text'].nunique())"
   ]
  },
  {
   "cell_type": "code",
   "execution_count": 7,
   "metadata": {},
   "outputs": [
    {
     "name": "stdout",
     "output_type": "stream",
     "text": [
      "전체 샘플수 : 98360\n"
     ]
    }
   ],
   "source": [
    "data.drop_duplicates(subset = ['text'], inplace = True)\n",
    "print('전체 샘플수 :',(len(data)))"
   ]
  },
  {
   "cell_type": "code",
   "execution_count": 8,
   "metadata": {},
   "outputs": [
    {
     "name": "stdout",
     "output_type": "stream",
     "text": [
      "headlines    0\n",
      "text         0\n",
      "dtype: int64\n"
     ]
    }
   ],
   "source": [
    "print(data.isnull().sum())"
   ]
  },
  {
   "cell_type": "code",
   "execution_count": 9,
   "metadata": {},
   "outputs": [
    {
     "name": "stdout",
     "output_type": "stream",
     "text": [
      "전체 샘플수 : 98360\n"
     ]
    }
   ],
   "source": [
    "data.dropna(axis = 0, inplace = True)\n",
    "print('전체 샘플수 :',(len(data)))"
   ]
  },
  {
   "cell_type": "code",
   "execution_count": 10,
   "metadata": {},
   "outputs": [
    {
     "name": "stdout",
     "output_type": "stream",
     "text": [
      "정규화 사전의 수:  120\n"
     ]
    }
   ],
   "source": [
    "contractions = {\"ain't\": \"is not\", \"aren't\": \"are not\",\"can't\": \"cannot\", \"'cause\": \"because\", \"could've\": \"could have\", \"couldn't\": \"could not\",\n",
    "                           \"didn't\": \"did not\",  \"doesn't\": \"does not\", \"don't\": \"do not\", \"hadn't\": \"had not\", \"hasn't\": \"has not\", \"haven't\": \"have not\",\n",
    "                           \"he'd\": \"he would\",\"he'll\": \"he will\", \"he's\": \"he is\", \"how'd\": \"how did\", \"how'd'y\": \"how do you\", \"how'll\": \"how will\", \"how's\": \"how is\",\n",
    "                           \"I'd\": \"I would\", \"I'd've\": \"I would have\", \"I'll\": \"I will\", \"I'll've\": \"I will have\",\"I'm\": \"I am\", \"I've\": \"I have\", \"i'd\": \"i would\",\n",
    "                           \"i'd've\": \"i would have\", \"i'll\": \"i will\",  \"i'll've\": \"i will have\",\"i'm\": \"i am\", \"i've\": \"i have\", \"isn't\": \"is not\", \"it'd\": \"it would\",\n",
    "                           \"it'd've\": \"it would have\", \"it'll\": \"it will\", \"it'll've\": \"it will have\",\"it's\": \"it is\", \"let's\": \"let us\", \"ma'am\": \"madam\",\n",
    "                           \"mayn't\": \"may not\", \"might've\": \"might have\",\"mightn't\": \"might not\",\"mightn't've\": \"might not have\", \"must've\": \"must have\",\n",
    "                           \"mustn't\": \"must not\", \"mustn't've\": \"must not have\", \"needn't\": \"need not\", \"needn't've\": \"need not have\",\"o'clock\": \"of the clock\",\n",
    "                           \"oughtn't\": \"ought not\", \"oughtn't've\": \"ought not have\", \"shan't\": \"shall not\", \"sha'n't\": \"shall not\", \"shan't've\": \"shall not have\",\n",
    "                           \"she'd\": \"she would\", \"she'd've\": \"she would have\", \"she'll\": \"she will\", \"she'll've\": \"she will have\", \"she's\": \"she is\",\n",
    "                           \"should've\": \"should have\", \"shouldn't\": \"should not\", \"shouldn't've\": \"should not have\", \"so've\": \"so have\",\"so's\": \"so as\",\n",
    "                           \"this's\": \"this is\",\"that'd\": \"that would\", \"that'd've\": \"that would have\", \"that's\": \"that is\", \"there'd\": \"there would\",\n",
    "                           \"there'd've\": \"there would have\", \"there's\": \"there is\", \"here's\": \"here is\",\"they'd\": \"they would\", \"they'd've\": \"they would have\",\n",
    "                           \"they'll\": \"they will\", \"they'll've\": \"they will have\", \"they're\": \"they are\", \"they've\": \"they have\", \"to've\": \"to have\",\n",
    "                           \"wasn't\": \"was not\", \"we'd\": \"we would\", \"we'd've\": \"we would have\", \"we'll\": \"we will\", \"we'll've\": \"we will have\", \"we're\": \"we are\",\n",
    "                           \"we've\": \"we have\", \"weren't\": \"were not\", \"what'll\": \"what will\", \"what'll've\": \"what will have\", \"what're\": \"what are\",\n",
    "                           \"what's\": \"what is\", \"what've\": \"what have\", \"when's\": \"when is\", \"when've\": \"when have\", \"where'd\": \"where did\", \"where's\": \"where is\",\n",
    "                           \"where've\": \"where have\", \"who'll\": \"who will\", \"who'll've\": \"who will have\", \"who's\": \"who is\", \"who've\": \"who have\",\n",
    "                           \"why's\": \"why is\", \"why've\": \"why have\", \"will've\": \"will have\", \"won't\": \"will not\", \"won't've\": \"will not have\",\n",
    "                           \"would've\": \"would have\", \"wouldn't\": \"would not\", \"wouldn't've\": \"would not have\", \"y'all\": \"you all\",\n",
    "                           \"y'all'd\": \"you all would\",\"y'all'd've\": \"you all would have\",\"y'all're\": \"you all are\",\"y'all've\": \"you all have\",\n",
    "                           \"you'd\": \"you would\", \"you'd've\": \"you would have\", \"you'll\": \"you will\", \"you'll've\": \"you will have\",\n",
    "                           \"you're\": \"you are\", \"you've\": \"you have\"}\n",
    "\n",
    "print(\"정규화 사전의 수: \",len(contractions))"
   ]
  },
  {
   "cell_type": "code",
   "execution_count": 11,
   "metadata": {},
   "outputs": [
    {
     "name": "stdout",
     "output_type": "stream",
     "text": [
      "불용어 개수 : 179\n",
      "['i', 'me', 'my', 'myself', 'we', 'our', 'ours', 'ourselves', 'you', \"you're\", \"you've\", \"you'll\", \"you'd\", 'your', 'yours', 'yourself', 'yourselves', 'he', 'him', 'his', 'himself', 'she', \"she's\", 'her', 'hers', 'herself', 'it', \"it's\", 'its', 'itself', 'they', 'them', 'their', 'theirs', 'themselves', 'what', 'which', 'who', 'whom', 'this', 'that', \"that'll\", 'these', 'those', 'am', 'is', 'are', 'was', 'were', 'be', 'been', 'being', 'have', 'has', 'had', 'having', 'do', 'does', 'did', 'doing', 'a', 'an', 'the', 'and', 'but', 'if', 'or', 'because', 'as', 'until', 'while', 'of', 'at', 'by', 'for', 'with', 'about', 'against', 'between', 'into', 'through', 'during', 'before', 'after', 'above', 'below', 'to', 'from', 'up', 'down', 'in', 'out', 'on', 'off', 'over', 'under', 'again', 'further', 'then', 'once', 'here', 'there', 'when', 'where', 'why', 'how', 'all', 'any', 'both', 'each', 'few', 'more', 'most', 'other', 'some', 'such', 'no', 'nor', 'not', 'only', 'own', 'same', 'so', 'than', 'too', 'very', 's', 't', 'can', 'will', 'just', 'don', \"don't\", 'should', \"should've\", 'now', 'd', 'll', 'm', 'o', 're', 've', 'y', 'ain', 'aren', \"aren't\", 'couldn', \"couldn't\", 'didn', \"didn't\", 'doesn', \"doesn't\", 'hadn', \"hadn't\", 'hasn', \"hasn't\", 'haven', \"haven't\", 'isn', \"isn't\", 'ma', 'mightn', \"mightn't\", 'mustn', \"mustn't\", 'needn', \"needn't\", 'shan', \"shan't\", 'shouldn', \"shouldn't\", 'wasn', \"wasn't\", 'weren', \"weren't\", 'won', \"won't\", 'wouldn', \"wouldn't\"]\n"
     ]
    }
   ],
   "source": [
    "print('불용어 개수 :', len(stopwords.words('english') ))\n",
    "print(stopwords.words('english'))"
   ]
  },
  {
   "cell_type": "code",
   "execution_count": 12,
   "metadata": {},
   "outputs": [],
   "source": [
    "#데이터 전처리 함수\n",
    "def preprocess_sentence(sentence, remove_stopwords=True):\n",
    "    sentence = sentence.lower() # 텍스트 소문자화\n",
    "    sentence = BeautifulSoup(sentence, \"lxml\").text # <br />, <a href = ...> 등의 html 태그 제거\n",
    "    sentence = re.sub(r'\\([^)]*\\)', '', sentence) # 괄호로 닫힌 문자열 (...) 제거 Ex) my husband (and myself!) for => my husband for\n",
    "    sentence = re.sub('\"','', sentence) # 쌍따옴표 \" 제거\n",
    "    sentence = ' '.join([contractions[t] if t in contractions else t for t in sentence.split(\" \")]) # 약어 정규화\n",
    "    sentence = re.sub(r\"'s\\b\",\"\",sentence) # 소유격 제거. Ex) roland's -> roland\n",
    "    sentence = re.sub(\"[^a-zA-Z]\", \" \", sentence) # 영어 외 문자(숫자, 특수문자 등) 공백으로 변환\n",
    "    sentence = re.sub('[m]{2,}', 'mm', sentence) # m이 3개 이상이면 2개로 변경. Ex) ummmmmmm yeah -> umm yeah\n",
    "    \n",
    "    # 불용어 제거 (Text)\n",
    "    if remove_stopwords:\n",
    "        tokens = ' '.join(word for word in sentence.split() if not word in stopwords.words('english') if len(word) > 1)\n",
    "    # 불용어 미제거 (Summary)\n",
    "    else:\n",
    "        tokens = ' '.join(word for word in sentence.split() if len(word) > 1)\n",
    "    return tokens"
   ]
  },
  {
   "cell_type": "code",
   "execution_count": 13,
   "metadata": {},
   "outputs": [
    {
     "name": "stdout",
     "output_type": "stream",
     "text": [
      "everything bought great infact ordered twice third ordered wasfor mother father\n",
      "great way to start the day\n"
     ]
    }
   ],
   "source": [
    "temp_text = 'Everything I bought was great, infact I ordered twice and the third ordered was<br />for my mother and father.'\n",
    "temp_summary = 'Great way to start (or finish) the day!!!'\n",
    "\n",
    "print(preprocess_sentence(temp_text))\n",
    "print(preprocess_sentence(temp_summary, False))  # 불용어를 제거하지 않습니다."
   ]
  },
  {
   "cell_type": "code",
   "execution_count": 14,
   "metadata": {},
   "outputs": [
    {
     "data": {
      "text/plain": [
       "['saurav kant alumnus upgrad iiit pg program machine learning artificial intelligence sr systems engineer infosys almost years work experience program upgrad degree career support helped transition data scientist tech mahindra salary hike upgrad online power learning powered lakh careers',\n",
       " 'kunal shah credit card bill payment platform cred gave users chance win free food swiggy one year pranav kaushik delhi techie bagged reward spending cred coins users get one cred coin per rupee bill paid used avail rewards brands like ixigo bookmyshow ubereats cult fit',\n",
       " 'new zealand defeated india wickets fourth odi hamilton thursday win first match five match odi series india lost international match rohit sharma captaincy consecutive victories dating back march match witnessed india getting seventh lowest total odi cricket history',\n",
       " 'aegon life iterm insurance plan customers enjoy tax benefits premiums paid save taxes plan provides life cover age years also customers options insure critical illnesses disability accidental death benefit rider life cover age years',\n",
       " 'speaking sexual harassment allegations rajkumar hirani sonam kapoor said known hirani many years true metoo movement get derailed metoo movement always believe woman case need reserve judgment added hirani accused assistant worked sanju']"
      ]
     },
     "execution_count": 14,
     "metadata": {},
     "output_type": "execute_result"
    }
   ],
   "source": [
    "clean_text = []\n",
    "\n",
    "# 전체 Text 데이터에 대한 전처리 : 10분 이상 시간이 걸릴 수 있습니다. \n",
    "for s in data['text']:\n",
    "    clean_text.append(preprocess_sentence(s))\n",
    "\n",
    "# 전처리 후 출력\n",
    "clean_text[:5]"
   ]
  },
  {
   "cell_type": "code",
   "execution_count": 15,
   "metadata": {},
   "outputs": [
    {
     "data": {
      "text/plain": [
       "['upgrad learner switches to career in ml al with salary hike',\n",
       " 'delhi techie wins free food from swiggy for one year on cred',\n",
       " 'new zealand end rohit sharma led india match winning streak',\n",
       " 'aegon life iterm insurance plan helps customers save tax',\n",
       " 'have known hirani for yrs what if metoo claims are not true sonam']"
      ]
     },
     "execution_count": 15,
     "metadata": {},
     "output_type": "execute_result"
    }
   ],
   "source": [
    "clean_summary = []\n",
    "\n",
    "# 전체 Summary 데이터에 대한 전처리 : 5분 이상 시간이 걸릴 수 있습니다. \n",
    "for s in data['headlines']:\n",
    "    clean_summary.append(preprocess_sentence(s, False))\n",
    "\n",
    "clean_summary[:5]"
   ]
  },
  {
   "cell_type": "code",
   "execution_count": 16,
   "metadata": {},
   "outputs": [],
   "source": [
    "data['text'] = clean_text\n",
    "data['headlines'] = clean_summary\n",
    "\n",
    "# 빈 값을 Null 값으로 변환\n",
    "data.replace('', np.nan, inplace=True)"
   ]
  },
  {
   "cell_type": "code",
   "execution_count": 17,
   "metadata": {},
   "outputs": [
    {
     "data": {
      "text/plain": [
       "headlines    0\n",
       "text         0\n",
       "dtype: int64"
      ]
     },
     "execution_count": 17,
     "metadata": {},
     "output_type": "execute_result"
    }
   ],
   "source": [
    "data.isnull().sum()"
   ]
  },
  {
   "cell_type": "code",
   "execution_count": 18,
   "metadata": {},
   "outputs": [
    {
     "name": "stdout",
     "output_type": "stream",
     "text": [
      "전체 샘플수 : 98360\n"
     ]
    }
   ],
   "source": [
    "data.dropna(axis=0, inplace=True)\n",
    "print('전체 샘플수 :',(len(data)))#데이터 전처리 함수"
   ]
  },
  {
   "cell_type": "code",
   "execution_count": 19,
   "metadata": {},
   "outputs": [
    {
     "name": "stdout",
     "output_type": "stream",
     "text": [
      "텍스트의 최소 길이 : 1\n",
      "텍스트의 최대 길이 : 60\n",
      "텍스트의 평균 길이 : 35.09968483123221\n",
      "요약의 최소 길이 : 1\n",
      "요약의 최대 길이 : 16\n",
      "요약의 평균 길이 : 9.299532330215534\n"
     ]
    },
    {
     "data": {
      "image/png": "[encoded data removed]",
      "text/plain": [
       "<Figure size 432x288 with 2 Axes>"
      ]
     },
     "metadata": {
      "needs_background": "light"
     },
     "output_type": "display_data"
    },
    {
     "data": {
      "image/png": "[encoded data removed]",
      "text/plain": [
       "<Figure size 432x288 with 1 Axes>"
      ]
     },
     "metadata": {
      "needs_background": "light"
     },
     "output_type": "display_data"
    },
    {
     "data": {
      "image/png": "[encoded data removed]",
      "text/plain": [
       "<Figure size 432x288 with 1 Axes>"
      ]
     },
     "metadata": {
      "needs_background": "light"
     },
     "output_type": "display_data"
    }
   ],
   "source": [
    "# 길이 분포 출력\n",
    "text_len = [len(s.split()) for s in data['text']]\n",
    "summary_len = [len(s.split()) for s in data['headlines']]\n",
    "\n",
    "print('텍스트의 최소 길이 : {}'.format(np.min(text_len)))\n",
    "print('텍스트의 최대 길이 : {}'.format(np.max(text_len)))\n",
    "print('텍스트의 평균 길이 : {}'.format(np.mean(text_len)))\n",
    "print('요약의 최소 길이 : {}'.format(np.min(summary_len)))\n",
    "print('요약의 최대 길이 : {}'.format(np.max(summary_len)))\n",
    "print('요약의 평균 길이 : {}'.format(np.mean(summary_len)))\n",
    "\n",
    "plt.subplot(1,2,1)\n",
    "plt.boxplot(summary_len)\n",
    "plt.title('Summary')\n",
    "plt.subplot(1,2,2)\n",
    "plt.boxplot(text_len)\n",
    "plt.title('Text')\n",
    "plt.tight_layout()\n",
    "plt.show()\n",
    "\n",
    "plt.title('Summary')\n",
    "plt.hist(summary_len, bins = 40)\n",
    "plt.xlabel('length of samples')\n",
    "plt.ylabel('number of samples')\n",
    "plt.show()\n",
    "\n",
    "plt.title('Text')\n",
    "plt.hist(text_len, bins = 40)\n",
    "plt.xlabel('length of samples')\n",
    "plt.ylabel('number of samples')\n",
    "plt.show()"
   ]
  },
  {
   "cell_type": "code",
   "execution_count": 20,
   "metadata": {},
   "outputs": [],
   "source": [
    "text_max_len = 50\n",
    "summary_max_len = 14"
   ]
  },
  {
   "cell_type": "code",
   "execution_count": 21,
   "metadata": {},
   "outputs": [],
   "source": [
    "def below_threshold_len(max_len, nested_list):\n",
    "    cnt = 0\n",
    "    for s in nested_list:\n",
    "        if(len(s.split()) <= max_len):\n",
    "            cnt = cnt + 1\n",
    "    print('전체 샘플 중 길이가 %s 이하인 샘플의 비율: %s'%(max_len, (cnt / len(nested_list))))"
   ]
  },
  {
   "cell_type": "code",
   "execution_count": 22,
   "metadata": {},
   "outputs": [
    {
     "name": "stdout",
     "output_type": "stream",
     "text": [
      "전체 샘플 중 길이가 50 이하인 샘플의 비율: 0.9998576657177715\n",
      "전체 샘플 중 길이가 14 이하인 샘플의 비율: 0.9997763318422123\n"
     ]
    }
   ],
   "source": [
    "below_threshold_len(text_max_len, data['text'])\n",
    "below_threshold_len(summary_max_len,  data['headlines'])"
   ]
  },
  {
   "cell_type": "code",
   "execution_count": 23,
   "metadata": {},
   "outputs": [
    {
     "name": "stdout",
     "output_type": "stream",
     "text": [
      "전체 샘플수 : 98324\n"
     ]
    }
   ],
   "source": [
    "data = data[data['text'].apply(lambda x: len(x.split()) <= text_max_len)]\n",
    "data = data[data['headlines'].apply(lambda x: len(x.split()) <= summary_max_len)]\n",
    "print('전체 샘플수 :',(len(data)))"
   ]
  },
  {
   "cell_type": "code",
   "execution_count": 24,
   "metadata": {},
   "outputs": [
    {
     "data": {
      "text/html": [
       "<div>\n",
       "<style scoped>\n",
       "    .dataframe tbody tr th:only-of-type {\n",
       "        vertical-align: middle;\n",
       "    }\n",
       "\n",
       "    .dataframe tbody tr th {\n",
       "        vertical-align: top;\n",
       "    }\n",
       "\n",
       "    .dataframe thead th {\n",
       "        text-align: right;\n",
       "    }\n",
       "</style>\n",
       "<table border=\"1\" class=\"dataframe\">\n",
       "  <thead>\n",
       "    <tr style=\"text-align: right;\">\n",
       "      <th></th>\n",
       "      <th>headlines</th>\n",
       "      <th>text</th>\n",
       "      <th>decoder_input</th>\n",
       "      <th>decoder_target</th>\n",
       "    </tr>\n",
       "  </thead>\n",
       "  <tbody>\n",
       "    <tr>\n",
       "      <th>0</th>\n",
       "      <td>upgrad learner switches to career in ml al wit...</td>\n",
       "      <td>saurav kant alumnus upgrad iiit pg program mac...</td>\n",
       "      <td>sostoken upgrad learner switches to career in ...</td>\n",
       "      <td>upgrad learner switches to career in ml al wit...</td>\n",
       "    </tr>\n",
       "    <tr>\n",
       "      <th>1</th>\n",
       "      <td>delhi techie wins free food from swiggy for on...</td>\n",
       "      <td>kunal shah credit card bill payment platform c...</td>\n",
       "      <td>sostoken delhi techie wins free food from swig...</td>\n",
       "      <td>delhi techie wins free food from swiggy for on...</td>\n",
       "    </tr>\n",
       "    <tr>\n",
       "      <th>2</th>\n",
       "      <td>new zealand end rohit sharma led india match w...</td>\n",
       "      <td>new zealand defeated india wickets fourth odi ...</td>\n",
       "      <td>sostoken new zealand end rohit sharma led indi...</td>\n",
       "      <td>new zealand end rohit sharma led india match w...</td>\n",
       "    </tr>\n",
       "    <tr>\n",
       "      <th>3</th>\n",
       "      <td>aegon life iterm insurance plan helps customer...</td>\n",
       "      <td>aegon life iterm insurance plan customers enjo...</td>\n",
       "      <td>sostoken aegon life iterm insurance plan helps...</td>\n",
       "      <td>aegon life iterm insurance plan helps customer...</td>\n",
       "    </tr>\n",
       "    <tr>\n",
       "      <th>4</th>\n",
       "      <td>have known hirani for yrs what if metoo claims...</td>\n",
       "      <td>speaking sexual harassment allegations rajkuma...</td>\n",
       "      <td>sostoken have known hirani for yrs what if met...</td>\n",
       "      <td>have known hirani for yrs what if metoo claims...</td>\n",
       "    </tr>\n",
       "  </tbody>\n",
       "</table>\n",
       "</div>"
      ],
      "text/plain": [
       "                                           headlines  \\\n",
       "0  upgrad learner switches to career in ml al wit...   \n",
       "1  delhi techie wins free food from swiggy for on...   \n",
       "2  new zealand end rohit sharma led india match w...   \n",
       "3  aegon life iterm insurance plan helps customer...   \n",
       "4  have known hirani for yrs what if metoo claims...   \n",
       "\n",
       "                                                text  \\\n",
       "0  saurav kant alumnus upgrad iiit pg program mac...   \n",
       "1  kunal shah credit card bill payment platform c...   \n",
       "2  new zealand defeated india wickets fourth odi ...   \n",
       "3  aegon life iterm insurance plan customers enjo...   \n",
       "4  speaking sexual harassment allegations rajkuma...   \n",
       "\n",
       "                                       decoder_input  \\\n",
       "0  sostoken upgrad learner switches to career in ...   \n",
       "1  sostoken delhi techie wins free food from swig...   \n",
       "2  sostoken new zealand end rohit sharma led indi...   \n",
       "3  sostoken aegon life iterm insurance plan helps...   \n",
       "4  sostoken have known hirani for yrs what if met...   \n",
       "\n",
       "                                      decoder_target  \n",
       "0  upgrad learner switches to career in ml al wit...  \n",
       "1  delhi techie wins free food from swiggy for on...  \n",
       "2  new zealand end rohit sharma led india match w...  \n",
       "3  aegon life iterm insurance plan helps customer...  \n",
       "4  have known hirani for yrs what if metoo claims...  "
      ]
     },
     "execution_count": 24,
     "metadata": {},
     "output_type": "execute_result"
    }
   ],
   "source": [
    "#요약 데이터에는 시작 토큰과 종료 토큰을 추가한다.\n",
    "data['decoder_input'] = data['headlines'].apply(lambda x : 'sostoken '+ x)\n",
    "data['decoder_target'] = data['headlines'].apply(lambda x : x + ' eostoken')\n",
    "data.head()"
   ]
  },
  {
   "cell_type": "code",
   "execution_count": 25,
   "metadata": {},
   "outputs": [],
   "source": [
    "encoder_input = np.array(data['text']) # 인코더의 입력\n",
    "decoder_input = np.array(data['decoder_input']) # 디코더의 입력\n",
    "decoder_target = np.array(data['decoder_target']) # 디코더의 레이블"
   ]
  },
  {
   "cell_type": "code",
   "execution_count": 26,
   "metadata": {},
   "outputs": [
    {
     "name": "stdout",
     "output_type": "stream",
     "text": [
      "[56475 13039 80296 ...  6276 48556 75833]\n"
     ]
    }
   ],
   "source": [
    "indices = np.arange(encoder_input.shape[0])\n",
    "np.random.shuffle(indices)\n",
    "print(indices)"
   ]
  },
  {
   "cell_type": "code",
   "execution_count": 27,
   "metadata": {},
   "outputs": [],
   "source": [
    "encoder_input = encoder_input[indices]\n",
    "decoder_input = decoder_input[indices]\n",
    "decoder_target = decoder_target[indices]"
   ]
  },
  {
   "cell_type": "code",
   "execution_count": 28,
   "metadata": {},
   "outputs": [
    {
     "name": "stdout",
     "output_type": "stream",
     "text": [
      "테스트 데이터의 수 : 19664\n"
     ]
    }
   ],
   "source": [
    "n_of_val = int(len(encoder_input)*0.2)\n",
    "print('테스트 데이터의 수 :',n_of_val)"
   ]
  },
  {
   "cell_type": "code",
   "execution_count": 29,
   "metadata": {},
   "outputs": [
    {
     "name": "stdout",
     "output_type": "stream",
     "text": [
      "훈련 데이터의 개수 : 78660\n",
      "훈련 레이블의 개수 : 78660\n",
      "테스트 데이터의 개수 : 19664\n",
      "테스트 레이블의 개수 : 19664\n"
     ]
    }
   ],
   "source": [
    "encoder_input_train = encoder_input[:-n_of_val]\n",
    "decoder_input_train = decoder_input[:-n_of_val]\n",
    "decoder_target_train = decoder_target[:-n_of_val]\n",
    "\n",
    "encoder_input_test = encoder_input[-n_of_val:]\n",
    "decoder_input_test = decoder_input[-n_of_val:]\n",
    "decoder_target_test = decoder_target[-n_of_val:]\n",
    "\n",
    "print('훈련 데이터의 개수 :', len(encoder_input_train))\n",
    "print('훈련 레이블의 개수 :',len(decoder_input_train))\n",
    "print('테스트 데이터의 개수 :',len(encoder_input_test))\n",
    "print('테스트 레이블의 개수 :',len(decoder_input_test))"
   ]
  },
  {
   "cell_type": "code",
   "execution_count": 30,
   "metadata": {},
   "outputs": [],
   "source": [
    "src_tokenizer = Tokenizer() # 토크나이저 정의\n",
    "src_tokenizer.fit_on_texts(encoder_input_train) # 입력된 데이터로부터 단어 집합 생성"
   ]
  },
  {
   "cell_type": "code",
   "execution_count": 31,
   "metadata": {},
   "outputs": [
    {
     "name": "stdout",
     "output_type": "stream",
     "text": [
      "단어 집합(vocabulary)의 크기 : 69896\n",
      "등장 빈도가 5번 이하인 희귀 단어의 수: 45936\n",
      "단어 집합에서 희귀 단어를 제외시킬 경우의 단어 집합의 크기 23960\n",
      "단어 집합에서 희귀 단어의 비율: 65.72049902712601\n",
      "전체 등장 빈도에서 희귀 단어 등장 빈도 비율: 3.1110590999058365\n"
     ]
    }
   ],
   "source": [
    "threshold = 6\n",
    "total_cnt = len(src_tokenizer.word_index) # 단어의 수\n",
    "rare_cnt = 0 # 등장 빈도수가 threshold보다 작은 단어의 개수를 카운트\n",
    "total_freq = 0 # 훈련 데이터의 전체 단어 빈도수 총 합\n",
    "rare_freq = 0 # 등장 빈도수가 threshold보다 작은 단어의 등장 빈도수의 총 합\n",
    "\n",
    "# 단어와 빈도수의 쌍(pair)을 key와 value로 받는다.\n",
    "for key, value in src_tokenizer.word_counts.items():\n",
    "    total_freq = total_freq + value\n",
    "\n",
    "    # 단어의 등장 빈도수가 threshold보다 작으면\n",
    "    if(value < threshold):\n",
    "        rare_cnt = rare_cnt + 1\n",
    "        rare_freq = rare_freq + value\n",
    "\n",
    "print('단어 집합(vocabulary)의 크기 :',total_cnt)\n",
    "print('등장 빈도가 %s번 이하인 희귀 단어의 수: %s'%(threshold - 1, rare_cnt))\n",
    "print('단어 집합에서 희귀 단어를 제외시킬 경우의 단어 집합의 크기 %s'%(total_cnt - rare_cnt))\n",
    "print(\"단어 집합에서 희귀 단어의 비율:\", (rare_cnt / total_cnt)*100)\n",
    "print(\"전체 등장 빈도에서 희귀 단어 등장 빈도 비율:\", (rare_freq / total_freq)*100)"
   ]
  },
  {
   "cell_type": "code",
   "execution_count": 32,
   "metadata": {},
   "outputs": [],
   "source": [
    "src_vocab = 20000\n",
    "src_tokenizer = Tokenizer(num_words = src_vocab) # 단어 집합의 크기를 20,000으로 제한\n",
    "src_tokenizer.fit_on_texts(encoder_input_train) # 단어 집합 재생성."
   ]
  },
  {
   "cell_type": "code",
   "execution_count": 33,
   "metadata": {},
   "outputs": [
    {
     "name": "stdout",
     "output_type": "stream",
     "text": [
      "[[25, 834, 179, 10232, 1090, 7680, 1669, 7680, 11245, 2579, 2741, 17, 9007, 1558, 257, 136, 141, 361, 1558, 10232, 1090, 679, 3754, 6467, 10232, 2349], [107, 22, 567, 466, 1580, 356, 206, 12203, 1089, 1580, 32, 12956, 24, 662, 642, 459, 8558, 694, 8559, 1974, 126, 366, 299, 6189, 99, 1358, 888, 759, 1453, 287, 8], [419, 219, 2495, 8, 567, 384, 910, 3238, 1426, 6801, 14762, 4894, 10698, 3469, 8864, 321, 369, 1307, 508, 14762, 152, 2227, 1249, 921, 4478, 770, 3730, 558, 6802, 88, 1, 63, 377, 140, 13358, 5513, 795, 1482, 7091, 1936, 14762]]\n"
     ]
    }
   ],
   "source": [
    "# 텍스트 시퀀스를 정수 시퀀스로 변환\n",
    "encoder_input_train = src_tokenizer.texts_to_sequences(encoder_input_train) \n",
    "encoder_input_test = src_tokenizer.texts_to_sequences(encoder_input_test)\n",
    "\n",
    "#잘 진행되었는지 샘플 출력\n",
    "print(encoder_input_train[:3])"
   ]
  },
  {
   "cell_type": "code",
   "execution_count": 34,
   "metadata": {},
   "outputs": [],
   "source": [
    "tar_tokenizer = Tokenizer()\n",
    "tar_tokenizer.fit_on_texts(decoder_input_train)"
   ]
  },
  {
   "cell_type": "code",
   "execution_count": 35,
   "metadata": {},
   "outputs": [
    {
     "name": "stdout",
     "output_type": "stream",
     "text": [
      "단어 집합(vocabulary)의 크기 : 30139\n",
      "등장 빈도가 5번 이하인 희귀 단어의 수: 19716\n",
      "단어 집합에서 희귀 단어를 제외시킬 경우의 단어 집합의 크기 10423\n",
      "단어 집합에서 희귀 단어의 비율: 65.4169016888417\n",
      "전체 등장 빈도에서 희귀 단어 등장 빈도 비율: 4.654042701875816\n"
     ]
    }
   ],
   "source": [
    "threshold = 6\n",
    "total_cnt = len(tar_tokenizer.word_index) # 단어의 수\n",
    "rare_cnt = 0 # 등장 빈도수가 threshold보다 작은 단어의 개수를 카운트\n",
    "total_freq = 0 # 훈련 데이터의 전체 단어 빈도수 총 합\n",
    "rare_freq = 0 # 등장 빈도수가 threshold보다 작은 단어의 등장 빈도수의 총 합\n",
    "\n",
    "# 단어와 빈도수의 쌍(pair)을 key와 value로 받는다.\n",
    "for key, value in tar_tokenizer.word_counts.items():\n",
    "    total_freq = total_freq + value\n",
    "\n",
    "    # 단어의 등장 빈도수가 threshold보다 작으면\n",
    "    if(value < threshold):\n",
    "        rare_cnt = rare_cnt + 1\n",
    "        rare_freq = rare_freq + value\n",
    "\n",
    "print('단어 집합(vocabulary)의 크기 :',total_cnt)\n",
    "print('등장 빈도가 %s번 이하인 희귀 단어의 수: %s'%(threshold - 1, rare_cnt))\n",
    "print('단어 집합에서 희귀 단어를 제외시킬 경우의 단어 집합의 크기 %s'%(total_cnt - rare_cnt))\n",
    "print(\"단어 집합에서 희귀 단어의 비율:\", (rare_cnt / total_cnt)*100)\n",
    "print(\"전체 등장 빈도에서 희귀 단어 등장 빈도 비율:\", (rare_freq / total_freq)*100)"
   ]
  },
  {
   "cell_type": "code",
   "execution_count": 36,
   "metadata": {},
   "outputs": [
    {
     "name": "stdout",
     "output_type": "stream",
     "text": [
      "input\n",
      "input  [[1, 39, 1284, 6168, 911, 4675, 82, 5], [1, 269, 467, 350, 2525, 664, 3, 1425, 17], [1, 2346, 3, 1255, 947, 8, 1113, 2031, 1724], [1, 20, 70, 86, 3, 257, 1046, 4851, 4, 151, 3, 2271], [1, 76, 339, 106, 542, 491, 39, 8779, 5878]]\n",
      "target\n",
      "decoder  [[39, 1284, 6168, 911, 4675, 82, 5, 2], [269, 467, 350, 2525, 664, 3, 1425, 17, 2], [2346, 3, 1255, 947, 8, 1113, 2031, 1724, 2], [20, 70, 86, 3, 257, 1046, 4851, 4, 151, 3, 2271, 2], [76, 339, 106, 542, 491, 39, 8779, 5878, 2]]\n"
     ]
    }
   ],
   "source": [
    "tar_vocab = 10000\n",
    "tar_tokenizer = Tokenizer(num_words = tar_vocab) \n",
    "tar_tokenizer.fit_on_texts(decoder_input_train)\n",
    "tar_tokenizer.fit_on_texts(decoder_target_train)\n",
    "\n",
    "# 텍스트 시퀀스를 정수 시퀀스로 변환\n",
    "decoder_input_train = tar_tokenizer.texts_to_sequences(decoder_input_train) \n",
    "decoder_target_train = tar_tokenizer.texts_to_sequences(decoder_target_train)\n",
    "decoder_input_test = tar_tokenizer.texts_to_sequences(decoder_input_test)\n",
    "decoder_target_test = tar_tokenizer.texts_to_sequences(decoder_target_test)\n",
    "\n",
    "#잘 변환되었는지 확인\n",
    "print('input')\n",
    "print('input ',decoder_input_train[:5])\n",
    "print('target')\n",
    "print('decoder ',decoder_target_train[:5])"
   ]
  },
  {
   "cell_type": "code",
   "execution_count": 37,
   "metadata": {},
   "outputs": [
    {
     "name": "stdout",
     "output_type": "stream",
     "text": [
      "삭제할 훈련 데이터의 개수 : 0\n",
      "삭제할 테스트 데이터의 개수 : 0\n",
      "훈련 데이터의 개수 : 78660\n",
      "훈련 레이블의 개수 : 78660\n",
      "테스트 데이터의 개수 : 19664\n",
      "테스트 레이블의 개수 : 19664\n"
     ]
    },
    {
     "name": "stderr",
     "output_type": "stream",
     "text": [
      "/home/ssac2/anaconda3/envs/aiffel/lib/python3.7/site-packages/numpy/core/_asarray.py:83: VisibleDeprecationWarning: Creating an ndarray from ragged nested sequences (which is a list-or-tuple of lists-or-tuples-or ndarrays with different lengths or shapes) is deprecated. If you meant to do this, you must specify 'dtype=object' when creating the ndarray\n",
      "  return array(a, dtype, copy=False, order=order)\n"
     ]
    }
   ],
   "source": [
    "drop_train = [index for index, sentence in enumerate(decoder_input_train) if len(sentence) == 1]\n",
    "drop_test = [index for index, sentence in enumerate(decoder_input_test) if len(sentence) == 1]\n",
    "\n",
    "print('삭제할 훈련 데이터의 개수 :',len(drop_train))\n",
    "print('삭제할 테스트 데이터의 개수 :',len(drop_test))\n",
    "\n",
    "encoder_input_train = np.delete(encoder_input_train, drop_train, axis=0)\n",
    "decoder_input_train = np.delete(decoder_input_train, drop_train, axis=0)\n",
    "decoder_target_train = np.delete(decoder_target_train, drop_train, axis=0)\n",
    "\n",
    "encoder_input_test = np.delete(encoder_input_test, drop_test, axis=0)\n",
    "decoder_input_test = np.delete(decoder_input_test, drop_test, axis=0)\n",
    "decoder_target_test = np.delete(decoder_target_test, drop_test, axis=0)\n",
    "\n",
    "print('훈련 데이터의 개수 :', len(encoder_input_train))\n",
    "print('훈련 레이블의 개수 :',len(decoder_input_train))\n",
    "print('테스트 데이터의 개수 :',len(encoder_input_test))\n",
    "print('테스트 레이블의 개수 :',len(decoder_input_test))"
   ]
  },
  {
   "cell_type": "code",
   "execution_count": 38,
   "metadata": {},
   "outputs": [],
   "source": [
    "encoder_input_train = pad_sequences(encoder_input_train, maxlen = text_max_len, padding='post')\n",
    "encoder_input_test = pad_sequences(encoder_input_test, maxlen = text_max_len, padding='post')\n",
    "decoder_input_train = pad_sequences(decoder_input_train, maxlen = summary_max_len, padding='post')\n",
    "decoder_target_train = pad_sequences(decoder_target_train, maxlen = summary_max_len, padding='post')\n",
    "decoder_input_test = pad_sequences(decoder_input_test, maxlen = summary_max_len, padding='post')\n",
    "decoder_target_test = pad_sequences(decoder_target_test, maxlen = summary_max_len, padding='post')"
   ]
  },
  {
   "cell_type": "code",
   "execution_count": 39,
   "metadata": {},
   "outputs": [
    {
     "name": "stdout",
     "output_type": "stream",
     "text": [
      "WARNING:tensorflow:Layer lstm will not use cuDNN kernel since it doesn't meet the cuDNN kernel criteria. It will use generic GPU kernel as fallback when running on GPU\n",
      "WARNING:tensorflow:Layer lstm_1 will not use cuDNN kernel since it doesn't meet the cuDNN kernel criteria. It will use generic GPU kernel as fallback when running on GPU\n",
      "WARNING:tensorflow:Layer lstm_2 will not use cuDNN kernel since it doesn't meet the cuDNN kernel criteria. It will use generic GPU kernel as fallback when running on GPU\n"
     ]
    }
   ],
   "source": [
    "from tensorflow.keras.layers import Input, LSTM, Embedding, Dense, Concatenate\n",
    "from tensorflow.keras.models import Model\n",
    "from tensorflow.keras.callbacks import EarlyStopping, ModelCheckpoint\n",
    "\n",
    "# 인코더 설계 시작\n",
    "embedding_dim = 128\n",
    "hidden_size = 256\n",
    "\n",
    "# 인코더\n",
    "encoder_inputs = Input(shape=(text_max_len,))\n",
    "\n",
    "# 인코더의 임베딩 층\n",
    "enc_emb = Embedding(src_vocab, embedding_dim)(encoder_inputs)\n",
    "\n",
    "# 인코더의 LSTM 1\n",
    "encoder_lstm1 = LSTM(hidden_size, return_sequences=True, return_state=True ,dropout = 0.4, recurrent_dropout = 0.4)\n",
    "encoder_output1, state_h1, state_c1 = encoder_lstm1(enc_emb)\n",
    "\n",
    "# 인코더의 LSTM 2\n",
    "encoder_lstm2 = LSTM(hidden_size, return_sequences=True, return_state=True, dropout=0.4, recurrent_dropout=0.4)\n",
    "encoder_output2, state_h2, state_c2 = encoder_lstm2(encoder_output1)\n",
    "\n",
    "# 인코더의 LSTM 3\n",
    "encoder_lstm3 = LSTM(hidden_size, return_state=True, return_sequences=True, dropout=0.4, recurrent_dropout=0.4)\n",
    "encoder_outputs, state_h, state_c= encoder_lstm3(encoder_output2)"
   ]
  },
  {
   "cell_type": "code",
   "execution_count": 40,
   "metadata": {},
   "outputs": [
    {
     "name": "stdout",
     "output_type": "stream",
     "text": [
      "WARNING:tensorflow:Layer lstm_3 will not use cuDNN kernel since it doesn't meet the cuDNN kernel criteria. It will use generic GPU kernel as fallback when running on GPU\n"
     ]
    }
   ],
   "source": [
    "# 디코더 설계\n",
    "decoder_inputs = Input(shape=(None,))\n",
    "\n",
    "# 디코더의 임베딩 층\n",
    "dec_emb_layer = Embedding(tar_vocab, embedding_dim)\n",
    "dec_emb = dec_emb_layer(decoder_inputs)\n",
    "\n",
    "# 디코더의 LSTM\n",
    "decoder_lstm = LSTM(hidden_size, return_sequences = True, return_state = True, dropout = 0.4, recurrent_dropout=0.2)\n",
    "decoder_outputs, _, _ = decoder_lstm(dec_emb, initial_state = [state_h, state_c])"
   ]
  },
  {
   "cell_type": "code",
   "execution_count": 41,
   "metadata": {},
   "outputs": [
    {
     "name": "stdout",
     "output_type": "stream",
     "text": [
      "Model: \"model\"\n",
      "__________________________________________________________________________________________________\n",
      "Layer (type)                    Output Shape         Param #     Connected to                     \n",
      "==================================================================================================\n",
      "input_1 (InputLayer)            [(None, 50)]         0                                            \n",
      "__________________________________________________________________________________________________\n",
      "embedding (Embedding)           (None, 50, 128)      2560000     input_1[0][0]                    \n",
      "__________________________________________________________________________________________________\n",
      "lstm (LSTM)                     [(None, 50, 256), (N 394240      embedding[0][0]                  \n",
      "__________________________________________________________________________________________________\n",
      "input_2 (InputLayer)            [(None, None)]       0                                            \n",
      "__________________________________________________________________________________________________\n",
      "lstm_1 (LSTM)                   [(None, 50, 256), (N 525312      lstm[0][0]                       \n",
      "__________________________________________________________________________________________________\n",
      "embedding_1 (Embedding)         (None, None, 128)    1280000     input_2[0][0]                    \n",
      "__________________________________________________________________________________________________\n",
      "lstm_2 (LSTM)                   [(None, 50, 256), (N 525312      lstm_1[0][0]                     \n",
      "__________________________________________________________________________________________________\n",
      "lstm_3 (LSTM)                   [(None, None, 256),  394240      embedding_1[0][0]                \n",
      "                                                                 lstm_2[0][1]                     \n",
      "                                                                 lstm_2[0][2]                     \n",
      "__________________________________________________________________________________________________\n",
      "dense (Dense)                   (None, None, 10000)  2570000     lstm_3[0][0]                     \n",
      "==================================================================================================\n",
      "Total params: 8,249,104\n",
      "Trainable params: 8,249,104\n",
      "Non-trainable params: 0\n",
      "__________________________________________________________________________________________________\n"
     ]
    }
   ],
   "source": [
    "# 디코더의 출력층\n",
    "decoder_softmax_layer = Dense(tar_vocab, activation = 'softmax')\n",
    "decoder_softmax_outputs = decoder_softmax_layer(decoder_outputs) \n",
    "\n",
    "# 모델 정의\n",
    "model = Model([encoder_inputs, decoder_inputs], decoder_softmax_outputs)\n",
    "model.summary()"
   ]
  },
  {
   "cell_type": "markdown",
   "metadata": {},
   "source": [
    "# Step 3. 어텐션 메커니즘 사용하기 (추상적 요약)"
   ]
  },
  {
   "cell_type": "code",
   "execution_count": 42,
   "metadata": {},
   "outputs": [],
   "source": [
    "urllib.request.urlretrieve(\"https://raw.githubusercontent.com/thushv89/attention_keras/master/src/layers/attention.py\", filename=\"attention.py\")\n",
    "from attention import AttentionLayer"
   ]
  },
  {
   "cell_type": "code",
   "execution_count": 43,
   "metadata": {},
   "outputs": [
    {
     "name": "stdout",
     "output_type": "stream",
     "text": [
      "Model: \"model_1\"\n",
      "__________________________________________________________________________________________________\n",
      "Layer (type)                    Output Shape         Param #     Connected to                     \n",
      "==================================================================================================\n",
      "input_1 (InputLayer)            [(None, 50)]         0                                            \n",
      "__________________________________________________________________________________________________\n",
      "embedding (Embedding)           (None, 50, 128)      2560000     input_1[0][0]                    \n",
      "__________________________________________________________________________________________________\n",
      "lstm (LSTM)                     [(None, 50, 256), (N 394240      embedding[0][0]                  \n",
      "__________________________________________________________________________________________________\n",
      "input_2 (InputLayer)            [(None, None)]       0                                            \n",
      "__________________________________________________________________________________________________\n",
      "lstm_1 (LSTM)                   [(None, 50, 256), (N 525312      lstm[0][0]                       \n",
      "__________________________________________________________________________________________________\n",
      "embedding_1 (Embedding)         (None, None, 128)    1280000     input_2[0][0]                    \n",
      "__________________________________________________________________________________________________\n",
      "lstm_2 (LSTM)                   [(None, 50, 256), (N 525312      lstm_1[0][0]                     \n",
      "__________________________________________________________________________________________________\n",
      "lstm_3 (LSTM)                   [(None, None, 256),  394240      embedding_1[0][0]                \n",
      "                                                                 lstm_2[0][1]                     \n",
      "                                                                 lstm_2[0][2]                     \n",
      "__________________________________________________________________________________________________\n",
      "attention_layer (AttentionLayer ((None, None, 256),  131328      lstm_2[0][0]                     \n",
      "                                                                 lstm_3[0][0]                     \n",
      "__________________________________________________________________________________________________\n",
      "concat_layer (Concatenate)      (None, None, 512)    0           lstm_3[0][0]                     \n",
      "                                                                 attention_layer[0][0]            \n",
      "__________________________________________________________________________________________________\n",
      "dense_1 (Dense)                 (None, None, 10000)  5130000     concat_layer[0][0]               \n",
      "==================================================================================================\n",
      "Total params: 10,940,432\n",
      "Trainable params: 10,940,432\n",
      "Non-trainable params: 0\n",
      "__________________________________________________________________________________________________\n"
     ]
    }
   ],
   "source": [
    "# 어텐션 층(어텐션 함수)\n",
    "attn_layer = AttentionLayer(name='attention_layer')\n",
    "# 인코더와 디코더의 모든 time step의 hidden state를 어텐션 층에 전달하고 결과를 리턴\n",
    "attn_out, attn_states = attn_layer([encoder_outputs, decoder_outputs])\n",
    "\n",
    "# 어텐션의 결과와 디코더의 hidden state들을 연결\n",
    "decoder_concat_input = Concatenate(axis = -1, name='concat_layer')([decoder_outputs, attn_out])\n",
    "\n",
    "# 디코더의 출력층\n",
    "decoder_softmax_layer = Dense(tar_vocab, activation='softmax')\n",
    "decoder_softmax_outputs = decoder_softmax_layer(decoder_concat_input)\n",
    "\n",
    "# 모델 정의\n",
    "model = Model([encoder_inputs, decoder_inputs], decoder_softmax_outputs)\n",
    "model.summary()"
   ]
  },
  {
   "cell_type": "code",
   "execution_count": 44,
   "metadata": {},
   "outputs": [
    {
     "name": "stdout",
     "output_type": "stream",
     "text": [
      "Epoch 1/50\n",
      "308/308 [==============================] - 143s 463ms/step - loss: 4.8726 - val_loss: 4.4770\n",
      "Epoch 2/50\n",
      "308/308 [==============================] - 142s 460ms/step - loss: 4.3415 - val_loss: 4.1697\n",
      "Epoch 3/50\n",
      "308/308 [==============================] - 139s 451ms/step - loss: 4.0463 - val_loss: 3.9300\n",
      "Epoch 4/50\n",
      "308/308 [==============================] - 135s 439ms/step - loss: 3.8147 - val_loss: 3.7584\n",
      "Epoch 5/50\n",
      "308/308 [==============================] - 138s 447ms/step - loss: 3.6331 - val_loss: 3.6357\n",
      "Epoch 6/50\n",
      "308/308 [==============================] - 137s 446ms/step - loss: 3.4843 - val_loss: 3.5462\n",
      "Epoch 7/50\n",
      "308/308 [==============================] - 139s 452ms/step - loss: 3.3593 - val_loss: 3.4553\n",
      "Epoch 8/50\n",
      "308/308 [==============================] - 139s 452ms/step - loss: 3.2519 - val_loss: 3.3843\n",
      "Epoch 9/50\n",
      "308/308 [==============================] - 144s 469ms/step - loss: 3.1570 - val_loss: 3.3395\n",
      "Epoch 10/50\n",
      "308/308 [==============================] - 139s 450ms/step - loss: 3.0710 - val_loss: 3.2868\n",
      "Epoch 11/50\n",
      "308/308 [==============================] - 140s 455ms/step - loss: 2.9965 - val_loss: 3.2526\n",
      "Epoch 12/50\n",
      "308/308 [==============================] - 138s 450ms/step - loss: 2.9291 - val_loss: 3.2216\n",
      "Epoch 13/50\n",
      "308/308 [==============================] - 135s 439ms/step - loss: 2.8709 - val_loss: 3.1974\n",
      "Epoch 14/50\n",
      "308/308 [==============================] - 141s 457ms/step - loss: 2.8144 - val_loss: 3.1664\n",
      "Epoch 15/50\n",
      "308/308 [==============================] - 138s 449ms/step - loss: 2.7613 - val_loss: 3.1478\n",
      "Epoch 16/50\n",
      "308/308 [==============================] - 133s 433ms/step - loss: 2.7113 - val_loss: 3.1326\n",
      "Epoch 17/50\n",
      "308/308 [==============================] - 133s 432ms/step - loss: 2.6700 - val_loss: 3.1194\n",
      "Epoch 18/50\n",
      "308/308 [==============================] - 136s 442ms/step - loss: 2.6284 - val_loss: 3.1086\n",
      "Epoch 19/50\n",
      "308/308 [==============================] - 136s 440ms/step - loss: 2.5891 - val_loss: 3.0918\n",
      "Epoch 20/50\n",
      "308/308 [==============================] - 143s 466ms/step - loss: 2.5535 - val_loss: 3.0792\n",
      "Epoch 21/50\n",
      "308/308 [==============================] - 142s 461ms/step - loss: 2.5181 - val_loss: 3.0715\n",
      "Epoch 22/50\n",
      "308/308 [==============================] - 141s 458ms/step - loss: 2.4857 - val_loss: 3.0687\n",
      "Epoch 23/50\n",
      "308/308 [==============================] - 137s 446ms/step - loss: 2.4563 - val_loss: 3.0681\n",
      "Epoch 24/50\n",
      "308/308 [==============================] - 135s 440ms/step - loss: 2.4290 - val_loss: 3.0574\n",
      "Epoch 25/50\n",
      "308/308 [==============================] - 142s 461ms/step - loss: 2.4040 - val_loss: 3.0550\n",
      "Epoch 26/50\n",
      "308/308 [==============================] - 126s 409ms/step - loss: 2.3786 - val_loss: 3.0526\n",
      "Epoch 27/50\n",
      "308/308 [==============================] - 128s 417ms/step - loss: 2.3541 - val_loss: 3.0465\n",
      "Epoch 28/50\n",
      "308/308 [==============================] - 128s 417ms/step - loss: 2.3279 - val_loss: 3.0502\n",
      "Epoch 29/50\n",
      "308/308 [==============================] - 134s 434ms/step - loss: 2.3009 - val_loss: 3.0462\n",
      "Epoch 30/50\n",
      "308/308 [==============================] - 132s 429ms/step - loss: 2.2760 - val_loss: 3.0388\n",
      "Epoch 31/50\n",
      "308/308 [==============================] - 130s 422ms/step - loss: 2.2557 - val_loss: 3.0447\n",
      "Epoch 32/50\n",
      "308/308 [==============================] - 130s 422ms/step - loss: 2.2368 - val_loss: 3.0299\n",
      "Epoch 33/50\n",
      "308/308 [==============================] - 125s 406ms/step - loss: 2.2172 - val_loss: 3.0367\n",
      "Epoch 34/50\n",
      "308/308 [==============================] - 123s 401ms/step - loss: 2.1993 - val_loss: 3.0328\n",
      "Epoch 00034: early stopping\n"
     ]
    }
   ],
   "source": [
    "model.compile(optimizer='rmsprop', loss='sparse_categorical_crossentropy')\n",
    "es = EarlyStopping(monitor='val_loss', mode='min', verbose=1, patience = 2)\n",
    "history = model.fit(x = [encoder_input_train, decoder_input_train], y = decoder_target_train,\n",
    "          validation_data = ([encoder_input_test, decoder_input_test], decoder_target_test),\n",
    "          batch_size = 256, callbacks=[es], epochs = 50)"
   ]
  },
  {
   "cell_type": "code",
   "execution_count": 45,
   "metadata": {},
   "outputs": [
    {
     "data": {
      "image/png": "[encoded data removed]",
      "text/plain": [
       "<Figure size 432x288 with 1 Axes>"
      ]
     },
     "metadata": {
      "needs_background": "light"
     },
     "output_type": "display_data"
    }
   ],
   "source": [
    "plt.plot(history.history['loss'], label='train')\n",
    "plt.plot(history.history['val_loss'], label='test')\n",
    "plt.legend()\n",
    "plt.show()"
   ]
  },
  {
   "cell_type": "code",
   "execution_count": 46,
   "metadata": {},
   "outputs": [],
   "source": [
    "src_index_to_word = src_tokenizer.index_word # 원문 단어 집합에서 정수 -> 단어를 얻음\n",
    "tar_word_to_index = tar_tokenizer.word_index # 요약 단어 집합에서 단어 -> 정수를 얻음\n",
    "tar_index_to_word = tar_tokenizer.index_word # 요약 단어 집합에서 정수 -> 단어를 얻음"
   ]
  },
  {
   "cell_type": "code",
   "execution_count": 47,
   "metadata": {},
   "outputs": [],
   "source": [
    "# 인코더 설계\n",
    "encoder_model = Model(inputs=encoder_inputs, outputs=[encoder_outputs, state_h, state_c])\n",
    "\n",
    "# 이전 시점의 상태들을 저장하는 텐서\n",
    "decoder_state_input_h = Input(shape=(hidden_size,))\n",
    "decoder_state_input_c = Input(shape=(hidden_size,))\n",
    "\n",
    "dec_emb2 = dec_emb_layer(decoder_inputs)\n",
    "# 문장의 다음 단어를 예측하기 위해서 초기 상태(initial_state)를 이전 시점의 상태로 사용. 이는 뒤의 함수 decode_sequence()에 구현\n",
    "# 훈련 과정에서와 달리 LSTM의 리턴하는 은닉 상태와 셀 상태인 state_h와 state_c를 버리지 않음.\n",
    "decoder_outputs2, state_h2, state_c2 = decoder_lstm(dec_emb2, initial_state=[decoder_state_input_h, decoder_state_input_c])"
   ]
  },
  {
   "cell_type": "code",
   "execution_count": 48,
   "metadata": {},
   "outputs": [],
   "source": [
    "# 어텐션 함수\n",
    "decoder_hidden_state_input = Input(shape=(text_max_len, hidden_size))\n",
    "attn_out_inf, attn_states_inf = attn_layer([decoder_hidden_state_input, decoder_outputs2])\n",
    "decoder_inf_concat = Concatenate(axis=-1, name='concat')([decoder_outputs2, attn_out_inf])\n",
    "\n",
    "# 디코더의 출력층\n",
    "decoder_outputs2 = decoder_softmax_layer(decoder_inf_concat) \n",
    "\n",
    "# 최종 디코더 모델\n",
    "decoder_model = Model(\n",
    "    [decoder_inputs] + [decoder_hidden_state_input,decoder_state_input_h, decoder_state_input_c],\n",
    "    [decoder_outputs2] + [state_h2, state_c2])"
   ]
  },
  {
   "cell_type": "code",
   "execution_count": 49,
   "metadata": {},
   "outputs": [],
   "source": [
    "def decode_sequence(input_seq):\n",
    "    # 입력으로부터 인코더의 상태를 얻음\n",
    "    e_out, e_h, e_c = encoder_model.predict(input_seq)\n",
    "\n",
    "     # <SOS>에 해당하는 토큰 생성\n",
    "    target_seq = np.zeros((1,1))\n",
    "    target_seq[0, 0] = tar_word_to_index['sostoken']\n",
    "\n",
    "    stop_condition = False\n",
    "    decoded_sentence = ''\n",
    "    while not stop_condition: # stop_condition이 True가 될 때까지 루프 반복\n",
    "\n",
    "        output_tokens, h, c = decoder_model.predict([target_seq] + [e_out, e_h, e_c])\n",
    "        sampled_token_index = np.argmax(output_tokens[0, -1, :])\n",
    "        sampled_token = tar_index_to_word[sampled_token_index]\n",
    "\n",
    "        if(sampled_token!='eostoken'):\n",
    "            decoded_sentence += ' '+sampled_token\n",
    "\n",
    "        #  <eos>에 도달하거나 최대 길이를 넘으면 중단.\n",
    "        if (sampled_token == 'eostoken'  or len(decoded_sentence.split()) >= (summary_max_len-1)):\n",
    "            stop_condition = True\n",
    "\n",
    "        # 길이가 1인 타겟 시퀀스를 업데이트\n",
    "        target_seq = np.zeros((1,1))\n",
    "        target_seq[0, 0] = sampled_token_index\n",
    "\n",
    "        # 상태를 업데이트 합니다.\n",
    "        e_h, e_c = h, c\n",
    "\n",
    "    return decoded_sentence"
   ]
  },
  {
   "cell_type": "markdown",
   "metadata": {},
   "source": [
    "# Step 4. 실제 결과와 요약문 비교하기 (추상적 요약)"
   ]
  },
  {
   "cell_type": "code",
   "execution_count": 50,
   "metadata": {},
   "outputs": [],
   "source": [
    "def decode_sequence(input_seq):\n",
    "    # 입력으로부터 인코더의 상태를 얻음\n",
    "    e_out, e_h, e_c = encoder_model.predict(input_seq)\n",
    "\n",
    "     # <SOS>에 해당하는 토큰 생성\n",
    "    target_seq = np.zeros((1,1))\n",
    "    target_seq[0, 0] = tar_word_to_index['sostoken']\n",
    "\n",
    "    stop_condition = False\n",
    "    decoded_sentence = ''\n",
    "    while not stop_condition: # stop_condition이 True가 될 때까지 루프 반복\n",
    "\n",
    "        output_tokens, h, c = decoder_model.predict([target_seq] + [e_out, e_h, e_c])\n",
    "        sampled_token_index = np.argmax(output_tokens[0, -1, :])\n",
    "        sampled_token = tar_index_to_word[sampled_token_index]\n",
    "\n",
    "        if(sampled_token!='eostoken'):\n",
    "            decoded_sentence += ' '+sampled_token\n",
    "\n",
    "        #  <eos>에 도달하거나 최대 길이를 넘으면 중단.\n",
    "        if (sampled_token == 'eostoken'  or len(decoded_sentence.split()) >= (summary_max_len-1)):\n",
    "            stop_condition = True\n",
    "\n",
    "        # 길이가 1인 타겟 시퀀스를 업데이트\n",
    "        target_seq = np.zeros((1,1))\n",
    "        target_seq[0, 0] = sampled_token_index\n",
    "\n",
    "        # 상태를 업데이트 합니다.\n",
    "        e_h, e_c = h, c\n",
    "\n",
    "    return decoded_sentence"
   ]
  },
  {
   "cell_type": "code",
   "execution_count": 51,
   "metadata": {},
   "outputs": [],
   "source": [
    "# 원문의 정수 시퀀스를 텍스트 시퀀스로 변환\n",
    "def seq2text(input_seq):\n",
    "    temp=''\n",
    "    for i in input_seq:\n",
    "        if(i!=0):\n",
    "            temp = temp + src_index_to_word[i]+' '\n",
    "    return temp\n",
    "\n",
    "# 요약문의 정수 시퀀스를 텍스트 시퀀스로 변환\n",
    "def seq2summary(input_seq):\n",
    "    temp=''\n",
    "    for i in input_seq:\n",
    "        if((i!=0 and i!=tar_word_to_index['sostoken']) and i!=tar_word_to_index['eostoken']):\n",
    "            temp = temp + tar_index_to_word[i] + ' '\n",
    "    return temp"
   ]
  },
  {
   "cell_type": "code",
   "execution_count": 52,
   "metadata": {},
   "outputs": [
    {
     "name": "stdout",
     "output_type": "stream",
     "text": [
      "원문 : beijing court sentenced chairman group behind china biggest online ponzi scheme life prison also fined million fundraising fraud smuggling precious metals owning guns illegally authorities alleged platform defrauded lakh people billion \n",
      "실제 요약 : man behind china biggest scheme gets life sentence \n",
      "예측 요약 :  china gets mn in prison for years\n",
      "\n",
      "\n",
      "원문 : uk pm theresa may signed confidence supply deal northern irish democratic party allowing officially form minority government deal came two weeks talks worth billion reportedly deliver benefits northern ireland terms jobs investment health education \n",
      "실제 요약 : uk pm theresa may signs deal to form minority government \n",
      "예측 요약 :  uk pm theresa may become government to set up to\n",
      "\n",
      "\n",
      "원문 : congress leader navjot singh sidhu saturday said bjp puppet rich key turn make bend questioned bjp equation gautam adani said loan lakh crore debt chhattisgarh farmers crore \n",
      "실제 요약 : bjp is puppet for wealthy and influential people sidhu \n",
      "예측 요약 :  bjp is not sidhu on rafale deal with bjp sidhu\n",
      "\n",
      "\n",
      "원문 : reacting akshay kumar statement would like make biopic sprinter hima das actor adil hussain tweeted hope assamese actor cast play role maybe hima play part hima become first ever indian win track gold world championship age \n",
      "실제 요약 : an should play hima on akshay biopic plan \n",
      "예측 요약 :  akshay kumar is like his biopic on his biopic akshay\n",
      "\n",
      "\n",
      "원문 : vinesh phogat recently became first indian woman wrestler win gold asian games got engaged long time boyfriend rathi delhi airport upon return jakarta saturday duo exchanged rings outside arrival gates vinesh uncle mahavir phogat attendance vinesh also celebrated th birthday airport saturday \n",
      "실제 요약 : asiad gold winner vinesh phogat gets engaged at airport on return \n",
      "예측 요약 :  vinesh becomes st indian woman to asiad gold winner\n",
      "\n",
      "\n",
      "원문 : jammu kashmir wednesday came governor rule fourth time decade since governor nn vohra assumed office june also eighth time state witnesses centre rule last years comes bjp tuesday pulled bjp pdp coalition government \n",
      "실제 요약 : comes under governor rule for th time in years \n",
      "예측 요약 :  government to pass general category year for\n",
      "\n",
      "\n",
      "원문 : turkish government denied role publication classified information us military bases syria state news agency list us syria included information troop numbers equipment operational procedures responding report us expressed concerns sensitive information would forces \n",
      "실제 요약 : turkish government denies role in classified us info leak \n",
      "예측 요약 :  turkey to shut down on syria military leaks report\n",
      "\n",
      "\n",
      "원문 : gujarat high court restored order wire prohibiting reporting businesses bjp president amit shah son jay shah earlier lower court partially lifted order defamation case filed jay shah wire reported jay shah business turnover increased times pm modi election \n",
      "실제 요약 : gujarat hc restores order on the wire in jay shah case \n",
      "예측 요약 :  hc stays gujarat shah shah yadav from amit shah\n",
      "\n",
      "\n",
      "원문 : venezuela new constituent assembly saturday voted remove country attorney general ortega security forces surrounding entrance office country capital comes ortega said assembly fraudulently elected notably assembly power rewrite venezuelan constitution dissolve state institutions \n",
      "실제 요약 : venezuela new assembly sacks attorney general \n",
      "예측 요약 :  venezuela approves its own party\n",
      "\n",
      "\n",
      "원문 : pilot airlines suspended months fined lakh allowing wife enter cockpit according airline pilot let wife cockpit two flights last year pilot bought full tickets also ordered pay wife journey \n",
      "실제 요약 : chinese pilot suspended fined lakh for allowing wife in cockpit \n",
      "예측 요약 :  pilot to pay airline to pay for airline\n",
      "\n",
      "\n",
      "원문 : actress huma qureshi speaking brand endorsements said sell poison money added think actors little responsible conscience allows part something huma said actor abhay deol right slamming actors endorsing fairness creams \n",
      "실제 요약 : will not sell poison for money huma on brand \n",
      "예측 요약 :  do not need to pay for films for films huma qureshi\n",
      "\n",
      "\n",
      "원문 : delhi police arrested year old dancer told police robbed pizza outlet spend girlfriends fulfil dream working bollywood adnan khan along three friends allegedly robbed outlet lakh december allegedly planning robberies moving mumbai \n",
      "실제 요약 : dancer robs eatery to spend on girlfriends act in movies \n",
      "예측 요약 :  delhi police arrest for cash at hotel\n",
      "\n",
      "\n",
      "원문 : chandigarh international airport reported first ever case man caught trying smuggle grams carat gold concealed rectum accused arrived dubai indigo flight caught local officials director revenue intelligence customs staff gold worth lakh \n",
      "실제 요약 : chandigarh reports st case of man smuggling gold in rectum \n",
      "예측 요약 :  passenger caught smuggling in delhi airport\n",
      "\n",
      "\n",
      "원문 : congress leader digvijaya singh sunday apologised tweeting picture damaged metro pillar pakistan rawalpindi railway overbridge bhopal one friend sent fault check wrote picture circulated social media earlier delhi metro hyderabad metro \n",
      "실제 요약 : digvijaya apologises for posting pic from pak as mp bridge \n",
      "예측 요약 :  congress leader apologises for mocking indian flag in mp\n",
      "\n",
      "\n",
      "원문 : song despacito puerto rican artists luis daddy featuring justin bieber beat song sorry also bieber become streamed track ever despacito recorded billion plays across platforms despacito also leading billboard hot chart th week \n",
      "실제 요약 : despacito beats bieber sorry to become most streamed song \n",
      "예측 요약 :  ariana bieber most bieber concert times than vogue\n",
      "\n",
      "\n",
      "원문 : several hundred people gathered nasa kennedy space center friday commemorate air force major robert lawrence jr first african american astronaut lawrence part classified military space program meant spy soviet union died ever flying space fighter jet crashed december \n",
      "실제 요약 : st african american astronaut honoured on th death anniv \n",
      "예측 요약 :  nasa shares video of space for st time in space\n",
      "\n",
      "\n",
      "원문 : uttar pradesh bareilly defied state government order hoisting tricolour singing national anthem independence day may face action national security act bareilly divisional commissioner pv said adding across state followed government order said bareilly law \n",
      "실제 요약 : up which did not tricolour may face action \n",
      "예측 요약 :  up govt refuses to hold national anthem on hold\n",
      "\n",
      "\n",
      "원문 : sports minister vijay goel said meet tennis players leander paes mahesh bhupathi try sort differences two players got public spat paes accused bhupathi informing exclusion india davis cup squad bhupathi retaliated leaking whatsapp chat two defend \n",
      "실제 요약 : will meet paes bhupathi to sort differences sports min \n",
      "예측 요약 :  sports minister calls for sports sports minister\n",
      "\n",
      "\n",
      "원문 : jacqueline fernandez paid tribute late actress sridevi playing song piano sharing video instagram wrote today went soon always fan always gracious kind jacqueline added never anyone like \n",
      "실제 요약 : jacqueline plays on piano as tribute to sridevi \n",
      "예측 요약 :  jacqueline shares old pic with sridevi sridevi death\n",
      "\n",
      "\n",
      "원문 : italian sergio famed plans perform first human head transplant claimed severed spinal mice nine mice special able move days six mice treated recover however mice died within month \n",
      "실제 요약 : surgeon cuts successfully rejoins of mice \n",
      "예측 요약 :  italian man who lost to brain with brain\n",
      "\n",
      "\n",
      "원문 : device called breath developed mines cryptocurrency via human measures much air inhaled lungs data sent small computer mining monero blockchain user breath determines computer rate determines much monero computer mine \n",
      "실제 요약 : device cryptocurrencies based on breath rate \n",
      "예측 요약 :  device that lost in ad made in ad made\n",
      "\n",
      "\n",
      "원문 : following pm narendra modi call conserve oil fuel outlets seven states union territory puducherry shut every sunday starting may petroleum dealers consortium said would affect outlets tamil nadu kerala karnataka andhra pradesh telangana puducherry maharashtra haryana petrol pumps one worker sundays emergencies \n",
      "실제 요약 : petrol pumps in states to be shut on sundays \n",
      "예측 요약 :  pm modi oil fuel prices by fuel prices by oil min\n",
      "\n",
      "\n",
      "원문 : iits award bonus marks students answering three ambiguous questions jee paper may two questions mathematics section one incorrect vague physics question open ended per teacher answer key jee released sunday \n",
      "실제 요약 : iits to give extra marks for trying questions \n"
     ]
    },
    {
     "name": "stdout",
     "output_type": "stream",
     "text": [
      "예측 요약 :  mumbai students to get married in jee\n",
      "\n",
      "\n",
      "원문 : passengers onboard thiruvananthapuram bengaluru indigo flight saturday panicked cabin crew detected smell smoke minor laptop placed handbag airline said passengers relocated adjacent seats smoke discharged fire extinguisher injuries reported incident plane landed safely bengaluru \n",
      "실제 요약 : spark smoke from laptop bag cause alert on indigo flight \n",
      "예측 요약 :  flight diverted after passengers grounded for cockpit\n",
      "\n",
      "\n",
      "원문 : united states president donald trump mistaken french island mediterranean sea part italy part italy since th century ruled republic genoa trolled trump tweeting thank giving us back make italian \n",
      "실제 요약 : trump mistakes france for italy \n",
      "예측 요약 :  trump winter olympics ceremony\n",
      "\n",
      "\n",
      "원문 : website islamic state official news agency hacked collective muslim activists known di according reports also reportedly leaked email addresses around subscribers hack occurred isis claimed increased security recently become target numerous cyber attacks \n",
      "실제 요약 : activists hack website of islamic state news agency \n",
      "예측 요약 :  isis al jazeera leaked online in anti news of fb\n",
      "\n",
      "\n",
      "원문 : allegations extra marital affairs domestic abuse made wife hasin jahan indian cricketer mohammad shami said whatsapp messages showed media check whatsapp verify neither chat phone number added shami said ready apologise allegations proved \n",
      "실제 요약 : you can check my whatsapp and verify shami on wife claims \n",
      "예측 요약 :  whatsapp whatsapp whatsapp calls me on whatsapp divorce\n",
      "\n",
      "\n",
      "원문 : bjp ended alliance pdp jammu kashmir former cm mehbooba mufti said allegations discrimination jammu ladakh basis reality valley needed focused attention turmoil long time added accusing bjp levelling false charges pdp mufti said bjp initiative \n",
      "실제 요약 : bjp claim of discrimination against jammu false mufti \n",
      "예측 요약 :  pdp pdp alliance will not be pdp in kashmir mufti\n",
      "\n",
      "\n",
      "원문 : tamil nadu cm edappadi palaniswami sunday met farmers protesting jantar mantar delhi month demand drought relief fund waiver loans take pm demands put forward farmers urge farmers end protest said palaniswami \n",
      "실제 요약 : tn cm meets protesting farmers in delhi assures action \n",
      "예측 요약 :  tn cm farmers seek relief for farmers protest in farmers\n",
      "\n",
      "\n",
      "원문 : high school student friend mixed grandfather ashes homemade cookies shared least nine classmates california police said wednesday police said students unlikely charged crime would let matter handled school meanwhile school principal said personal family matter \n",
      "실제 요약 : teens ashes into for friends us police \n",
      "예측 요약 :  boy held for taking selfie with boys in bengaluru\n",
      "\n",
      "\n",
      "원문 : mahindra group chairman anand mahindra sunday tweeted tamil nadu stock would going long right comes tamil actor rajinikanth announced decision enter politics rajinikanth said would float political party contest next state assembly elections constituencies \n",
      "실제 요약 : if tn was stock would be buying now mahindra on rajinikanth \n",
      "예측 요약 :  will not contest any politics anand mahindra on rajinikanth\n",
      "\n",
      "\n",
      "원문 : maharashtra mlas allowed state use local area development funds works development mla spend lakh year cultural social events organised ngos lakh activity proposal approved state finance minister \n",
      "실제 요약 : maha allows mlas to use development funds for other work \n",
      "예측 요약 :  maharashtra mlas to get out of bengaluru\n",
      "\n",
      "\n",
      "원문 : prime minister narendra modi monday visited philippine foundation inc met nine year old boy fitted jaipur foot rubber based prosthetic leg people knee jaipur foot developed years ago bhagwan samiti india said world largest limb fitting society \n",
      "실제 요약 : pm modi meets yr old boy with jaipur foot in philippines \n",
      "예측 요약 :  pm modi gifts his foot foot mission to mars\n",
      "\n",
      "\n",
      "원문 : us deployed anti aircraft missiles first time use nato military drills lithuania comes ahead exercise russia belarus nato allies believe could increase russian presence notably baltic states expressed concern russia dominance region annexed crimea \n",
      "실제 요약 : us deploys anti aircraft missiles in for first time \n",
      "예측 요약 :  us deploys missile with russia amid tensions with us\n",
      "\n",
      "\n",
      "원문 : salman khan father salim khan confirmed cheque crore dispatched compensate distributors losses incurred due box office performance tubelight salim earlier said distributor suffers loss producer needs show responsibility share burden \n",
      "실제 요약 : salman pays cr to over tubelight losses \n",
      "예측 요약 :  salman khan dad earned crore in dues report\n",
      "\n",
      "\n",
      "원문 : american golf star tiger woods pleaded guilty reckless driving florida agreed enter diversion programme thereby avoiding jail time woods spend year probation pay fine court costs since woods intoxicated several drugs according court records also required undergo regular drug tests \n",
      "실제 요약 : tiger woods pleads guilty to driving avoids jail \n",
      "예측 요약 :  tiger woods to pay lakh to pay for million\n",
      "\n",
      "\n",
      "원문 : shiv sena mp ravindra gaikwad whose assault year old air india staffer resulted formation government fly rule called ruling welcome move however also called stricter guidelines airline staff well gaikwad banned travelling various airlines attacked air india staffer slipper \n",
      "실제 요약 : mp whose behaviour in no fly rule hails the move \n",
      "예측 요약 :  shiv sena mp gaikwad gaikwad mp gaikwad ban\n",
      "\n",
      "\n",
      "원문 : andhra pradesh recorded almost lightning hour period tuesday meteorological instrument maker revealed disaster management officials said number unusually high state reportedly recorded lightning entire month may nine people killed since tuesday due lightning \n",
      "실제 요약 : andhra pradesh records lightning in hours \n",
      "예측 요약 :  andhra pradesh to get special status for andhra pradesh\n",
      "\n",
      "\n",
      "원문 : sitting mla rao andhra pradesh visakhapatnam former mla constituency shot dead naxals sunday leaders telugu desam party gone valley supporters extremists said involved attack \n",
      "실제 요약 : mla former mla shot dead by naxals in andhra pradesh \n",
      "예측 요약 :  mla who killed mla for beating naxals in andhra\n",
      "\n",
      "\n",
      "원문 : brazil deployed troops rio de janeiro combat rising crime city average three people killed stray bullets day year troops preparing operations criminal organisations involved drug trafficking theft crimes defence minister said \n",
      "실제 요약 : troops deployed in brazil rio to fight crime surge \n",
      "예측 요약 :  brazil to fight in republic of republic day\n",
      "\n",
      "\n",
      "원문 : french woman stranded known killer mountain pakistan occupied kashmir rescued however said could rescue partner developed snow blindness climb french woman left partner tent call help \n",
      "실제 요약 : french woman stranded at pok rescued \n",
      "예측 요약 :  woman who survived attack on island gets stuck in\n",
      "\n",
      "\n",
      "원문 : actress nargis fakhri denied pregnancy rumours jokingly adding maybe baby tell rumours began nargis spotted airport hiding face palm also tweeted anyone get joke laugh jokes \n",
      "실제 요약 : maybe it is baby nargis on pregnancy rumours \n",
      "예측 요약 :  am not making baby on pregnancy rumours\n",
      "\n",
      "\n",
      "원문 : driver cab hailing platform lyft claimed found google smartphone pixel xl cab dropped passengers driver earlier thought phone pixel xl took pictures phone returning owner phone pictures show features notch \n",
      "실제 요약 : passenger forgets google phone in cab report \n",
      "예측 요약 :  man claims google google loses lakh in\n",
      "\n",
      "\n",
      "원문 : iranian government promoting use local messaging app features death america emoji according reports promotion app reportedly aimed convincing iranians switch telegram messaging app local one iran recently banned government bodies using telegram messenger communicate citizens \n",
      "실제 요약 : iran includes death to america emoji in state approved app \n",
      "예측 요약 :  iran iran bans internet in app\n",
      "\n",
      "\n",
      "원문 : video surfaced online wherein indian air force officer seen thrashed mob southeast delhi sangam vihar area reportedly incident took place april officer motorcycle touched car accused following attacked robbed delhi police arrested three persons connection \n",
      "실제 요약 : video shows iaf officer being thrashed by mob three held \n",
      "예측 요약 :  video of iaf officer assaulted by men in delhi\n",
      "\n",
      "\n",
      "원문 : russian president vladimir putin signed law allows transfer cash russia ukraine companies controlled russian central bank comes ukraine forced local banks ban six russian payment systems last year notably money transfers russia ukraine dropped billion million \n",
      "실제 요약 : russian prez putin limits cash transfers to ukraine \n"
     ]
    },
    {
     "name": "stdout",
     "output_type": "stream",
     "text": [
      "예측 요약 :  russia to pay russian ships to ukraine\n",
      "\n",
      "\n",
      "원문 : uttarakhand high court said would act legal guardian cows state directions state government court ordered setting cow shelter every cluster villages registering cases abandon cattle court order added commercial charges shall levied supplying electricity \n",
      "실제 요약 : uttarakhand hc appoints itself legal guardian of cows in state \n",
      "예측 요약 :  hc orders hc order to cow cow shelter cases\n",
      "\n",
      "\n",
      "원문 : european union leaders saturday promised embrace british province northern ireland brexit ever ireland notably good friday agreement end violence northern ireland holding sides border island uk ireland see public support \n",
      "실제 요약 : united ireland would be full member eu \n",
      "예측 요약 :  eu to europe first ever state of brexit\n",
      "\n",
      "\n",
      "원문 : film lipstick burkha declared eligible compete th golden globe awards film selected hollywood foreign press association screening indian film festival los angeles director film alankrita shrivastava choose submit film nomination upcoming golden \n",
      "실제 요약 : lipstick under my burkha eligible to compete at golden globe \n",
      "예측 요약 :  lipstick under the burkha at world film festival\n",
      "\n",
      "\n",
      "원문 : russian foreign ministry wednesday said scary uk foreign secretary boris johnson represents country nuclear power comes johnson supported uk mp ian austin claim russian president vladimir putin use russia fifa world cup like adolf hitler used olympic games glorify nazi ideology \n",
      "실제 요약 : scary that johnson nuclear power uk russia \n",
      "예측 요약 :  russia to be allowed to uk foreign foreign minister\n",
      "\n",
      "\n"
     ]
    }
   ],
   "source": [
    "for i in range(50, 100):\n",
    "    print(\"원문 :\", seq2text(encoder_input_test[i]))\n",
    "    print(\"실제 요약 :\", seq2summary(decoder_input_test[i]))\n",
    "    print(\"예측 요약 :\", decode_sequence(encoder_input_test[i].reshape(1, text_max_len)))\n",
    "    print(\"\\n\")"
   ]
  },
  {
   "cell_type": "markdown",
   "metadata": {},
   "source": [
    "# Step 5. Summa를 이용해서 추출적 요약해보기"
   ]
  },
  {
   "cell_type": "code",
   "execution_count": 53,
   "metadata": {},
   "outputs": [],
   "source": [
    "import requests\n",
    "from summa.summarizer import summarize"
   ]
  },
  {
   "cell_type": "markdown",
   "metadata": {},
   "source": [
    "- summarize 사용 예시\n",
    "\n",
    "print(summarize(text, ratio=0.005, split=True))    \n",
    "print(summarize(text, words=50))"
   ]
  },
  {
   "cell_type": "markdown",
   "metadata": {},
   "source": [
    "- 학습된 모델 결과를 바탕으로 추상적 요약과 추출적 요약 문장을 비교해보기"
   ]
  },
  {
   "cell_type": "code",
   "execution_count": 138,
   "metadata": {},
   "outputs": [
    {
     "name": "stdout",
     "output_type": "stream",
     "text": [
      "원문 : beijing court sentenced chairman group behind china biggest online ponzi scheme life prison also fined million fundraising fraud smuggling precious metals owning guns illegally authorities alleged platform defrauded lakh people billion \n",
      "실제 요약 : man behind china biggest scheme gets life sentence \n",
      "추상적 요약 :  china gets mn in prison for years\n",
      "추출적 요약 : beijing court sentenced chairman .\n",
      "people billion\n",
      "\n",
      "\n",
      "원문 : uk pm theresa may signed confidence supply deal northern irish democratic party allowing officially form minority government deal came two weeks talks worth billion reportedly deliver benefits northern ireland terms jobs investment health education \n",
      "실제 요약 : uk pm theresa may signs deal to form minority government \n",
      "추상적 요약 :  uk pm theresa may become government to set up to\n",
      "추출적 요약 : signed confidence supply deal northern .\n",
      "form minority government deal came .\n",
      "\n",
      "\n",
      "원문 : congress leader navjot singh sidhu saturday said bjp puppet rich key turn make bend questioned bjp equation gautam adani said loan lakh crore debt chhattisgarh farmers crore \n",
      "실제 요약 : bjp is puppet for wealthy and influential people sidhu \n",
      "추상적 요약 :  bjp is not sidhu on rafale deal with bjp sidhu\n",
      "추출적 요약 : said loan lakh crore debt .\n",
      "\n",
      "\n",
      "원문 : reacting akshay kumar statement would like make biopic sprinter hima das actor adil hussain tweeted hope assamese actor cast play role maybe hima play part hima become first ever indian win track gold world championship age \n",
      "실제 요약 : an should play hima on akshay biopic plan \n",
      "추상적 요약 :  akshay kumar is like his biopic on his biopic akshay\n",
      "추출적 요약 : hima das actor adil hussain .\n",
      "part hima become first ever .\n",
      "\n",
      "\n",
      "원문 : vinesh phogat recently became first indian woman wrestler win gold asian games got engaged long time boyfriend rathi delhi airport upon return jakarta saturday duo exchanged rings outside arrival gates vinesh uncle mahavir phogat attendance vinesh also celebrated th birthday airport saturday \n",
      "실제 요약 : asiad gold winner vinesh phogat gets engaged at airport on return \n",
      "추상적 요약 :  vinesh becomes st indian woman to asiad gold winner\n",
      "추출적 요약 : vinesh phogat recently became .\n",
      "gates vinesh uncle mahavir phogat .\n",
      "\n",
      "\n",
      "원문 : jammu kashmir wednesday came governor rule fourth time decade since governor nn vohra assumed office june also eighth time state witnesses centre rule last years comes bjp tuesday pulled bjp pdp coalition government \n",
      "실제 요약 : comes under governor rule for th time in years \n",
      "추상적 요약 :  government to pass general category year for\n",
      "추출적 요약 : governor rule fourth time decade .\n",
      "since governor nn vohra assumed .\n",
      "\n",
      "\n",
      "원문 : turkish government denied role publication classified information us military bases syria state news agency list us syria included information troop numbers equipment operational procedures responding report us expressed concerns sensitive information would forces \n",
      "실제 요약 : turkish government denies role in classified us info leak \n",
      "추상적 요약 :  turkey to shut down on syria military leaks report\n",
      "추출적 요약 : list us syria included information .\n",
      "sensitive information would forces\n",
      "\n",
      "\n",
      "원문 : gujarat high court restored order wire prohibiting reporting businesses bjp president amit shah son jay shah earlier lower court partially lifted order defamation case filed jay shah wire reported jay shah business turnover increased times pm modi election \n",
      "실제 요약 : gujarat hc restores order on the wire in jay shah case \n",
      "추상적 요약 :  hc stays gujarat shah shah yadav from amit shah\n",
      "추출적 요약 : jay shah earlier lower court .\n",
      "filed jay shah wire reported .\n",
      "\n",
      "\n",
      "원문 : venezuela new constituent assembly saturday voted remove country attorney general ortega security forces surrounding entrance office country capital comes ortega said assembly fraudulently elected notably assembly power rewrite venezuelan constitution dissolve state institutions \n",
      "실제 요약 : venezuela new assembly sacks attorney general \n",
      "추상적 요약 :  venezuela approves its own party\n",
      "추출적 요약 : general ortega security forces surrounding .\n",
      "ortega said assembly fraudulently elected .\n",
      "\n",
      "\n",
      "원문 : pilot airlines suspended months fined lakh allowing wife enter cockpit according airline pilot let wife cockpit two flights last year pilot bought full tickets also ordered pay wife journey \n",
      "실제 요약 : chinese pilot suspended fined lakh for allowing wife in cockpit \n",
      "추상적 요약 :  pilot to pay airline to pay for airline\n",
      "추출적 요약 : cockpit according airline pilot let .\n",
      "\n",
      "\n",
      "원문 : actress huma qureshi speaking brand endorsements said sell poison money added think actors little responsible conscience allows part something huma said actor abhay deol right slamming actors endorsing fairness creams \n",
      "실제 요약 : will not sell poison for money huma on brand \n",
      "추상적 요약 :  do not need to pay for films for films huma qureshi\n",
      "추출적 요약 : huma said actor abhay deol .\n",
      "right slamming actors endorsing fairness .\n",
      "\n",
      "\n",
      "원문 : delhi police arrested year old dancer told police robbed pizza outlet spend girlfriends fulfil dream working bollywood adnan khan along three friends allegedly robbed outlet lakh december allegedly planning robberies moving mumbai \n",
      "실제 요약 : dancer robs eatery to spend on girlfriends act in movies \n",
      "추상적 요약 :  delhi police arrest for cash at hotel\n",
      "추출적 요약 : old dancer told police robbed .\n",
      "along three friends allegedly robbed .\n",
      "\n",
      "\n",
      "원문 : chandigarh international airport reported first ever case man caught trying smuggle grams carat gold concealed rectum accused arrived dubai indigo flight caught local officials director revenue intelligence customs staff gold worth lakh \n",
      "실제 요약 : chandigarh reports st case of man smuggling gold in rectum \n",
      "추상적 요약 :  passenger caught smuggling in delhi airport\n",
      "추출적 요약 : first ever case man caught .\n",
      "indigo flight caught local officials .\n",
      "\n",
      "\n",
      "원문 : congress leader digvijaya singh sunday apologised tweeting picture damaged metro pillar pakistan rawalpindi railway overbridge bhopal one friend sent fault check wrote picture circulated social media earlier delhi metro hyderabad metro \n",
      "실제 요약 : digvijaya apologises for posting pic from pak as mp bridge \n",
      "추상적 요약 :  congress leader apologises for mocking indian flag in mp\n",
      "추출적 요약 : sunday apologised tweeting picture damaged .\n",
      "fault check wrote picture circulated .\n",
      "\n",
      "\n",
      "원문 : song despacito puerto rican artists luis daddy featuring justin bieber beat song sorry also bieber become streamed track ever despacito recorded billion plays across platforms despacito also leading billboard hot chart th week \n",
      "실제 요약 : despacito beats bieber sorry to become most streamed song \n",
      "추상적 요약 :  ariana bieber most bieber concert times than vogue\n",
      "추출적 요약 : song despacito puerto rican .\n",
      "bieber beat song sorry also .\n",
      "\n",
      "\n",
      "원문 : several hundred people gathered nasa kennedy space center friday commemorate air force major robert lawrence jr first african american astronaut lawrence part classified military space program meant spy soviet union died ever flying space fighter jet crashed december \n",
      "실제 요약 : st african american astronaut honoured on th death anniv \n",
      "추상적 요약 :  nasa shares video of space for st time in space\n",
      "추출적 요약 : astronaut lawrence part classified military .\n",
      "union died ever flying space .\n",
      "\n",
      "\n",
      "원문 : uttar pradesh bareilly defied state government order hoisting tricolour singing national anthem independence day may face action national security act bareilly divisional commissioner pv said adding across state followed government order said bareilly law \n",
      "실제 요약 : up which did not tricolour may face action \n",
      "추상적 요약 :  up govt refuses to hold national anthem on hold\n",
      "추출적 요약 : state government order hoisting tricolour .\n",
      "government order said bareilly law .\n",
      "\n",
      "\n",
      "원문 : sports minister vijay goel said meet tennis players leander paes mahesh bhupathi try sort differences two players got public spat paes accused bhupathi informing exclusion india davis cup squad bhupathi retaliated leaking whatsapp chat two defend \n",
      "실제 요약 : will meet paes bhupathi to sort differences sports min \n",
      "추상적 요약 :  sports minister calls for sports sports minister\n",
      "추출적 요약 : said meet tennis players leander .\n",
      "differences two players got public .\n",
      "\n",
      "\n",
      "원문 : jacqueline fernandez paid tribute late actress sridevi playing song piano sharing video instagram wrote today went soon always fan always gracious kind jacqueline added never anyone like \n",
      "실제 요약 : jacqueline plays on piano as tribute to sridevi \n"
     ]
    },
    {
     "name": "stdout",
     "output_type": "stream",
     "text": [
      "추상적 요약 :  jacqueline shares old pic with sridevi sridevi death\n",
      "추출적 요약 : jacqueline fernandez paid tribute .\n",
      "\n",
      "\n",
      "원문 : italian sergio famed plans perform first human head transplant claimed severed spinal mice nine mice special able move days six mice treated recover however mice died within month \n",
      "실제 요약 : surgeon cuts successfully rejoins of mice \n",
      "추상적 요약 :  italian man who lost to brain with brain\n",
      "추출적 요약 : six mice treated recover however .\n",
      "\n",
      "\n",
      "원문 : device called breath developed mines cryptocurrency via human measures much air inhaled lungs data sent small computer mining monero blockchain user breath determines computer rate determines much monero computer mine \n",
      "실제 요약 : device cryptocurrencies based on breath rate \n",
      "추상적 요약 :  device that lost in ad made in ad made\n",
      "추출적 요약 : rate determines much monero computer .\n",
      "\n",
      "\n",
      "원문 : following pm narendra modi call conserve oil fuel outlets seven states union territory puducherry shut every sunday starting may petroleum dealers consortium said would affect outlets tamil nadu kerala karnataka andhra pradesh telangana puducherry maharashtra haryana petrol pumps one worker sundays emergencies \n",
      "실제 요약 : petrol pumps in states to be shut on sundays \n",
      "추상적 요약 :  pm modi oil fuel prices by fuel prices by oil min\n",
      "추출적 요약 : shut every sunday starting may .\n",
      "worker sundays emergencies\n",
      "\n",
      "\n",
      "원문 : iits award bonus marks students answering three ambiguous questions jee paper may two questions mathematics section one incorrect vague physics question open ended per teacher answer key jee released sunday \n",
      "실제 요약 : iits to give extra marks for trying questions \n",
      "추상적 요약 :  mumbai students to get married in jee\n",
      "추출적 요약 : students answering three ambiguous questions .\n",
      "jee paper may two questions .\n",
      "\n",
      "\n",
      "원문 : passengers onboard thiruvananthapuram bengaluru indigo flight saturday panicked cabin crew detected smell smoke minor laptop placed handbag airline said passengers relocated adjacent seats smoke discharged fire extinguisher injuries reported incident plane landed safely bengaluru \n",
      "실제 요약 : spark smoke from laptop bag cause alert on indigo flight \n",
      "추상적 요약 :  flight diverted after passengers grounded for cockpit\n",
      "추출적 요약 : passengers onboard thiruvananthapuram bengaluru .\n",
      "passengers relocated adjacent seats smoke .\n",
      "\n",
      "\n",
      "원문 : united states president donald trump mistaken french island mediterranean sea part italy part italy since th century ruled republic genoa trolled trump tweeting thank giving us back make italian \n",
      "실제 요약 : trump mistakes france for italy \n",
      "추상적 요약 :  trump winter olympics ceremony\n",
      "추출적 요약 : trump mistaken french island mediterranean .\n",
      "\n",
      "\n",
      "원문 : website islamic state official news agency hacked collective muslim activists known di according reports also reportedly leaked email addresses around subscribers hack occurred isis claimed increased security recently become target numerous cyber attacks \n",
      "실제 요약 : activists hack website of islamic state news agency \n",
      "추상적 요약 :  isis al jazeera leaked online in anti news of fb\n",
      "추출적 요약 : news agency hacked collective muslim .\n",
      "around subscribers hack occurred isis .\n",
      "\n",
      "\n",
      "원문 : allegations extra marital affairs domestic abuse made wife hasin jahan indian cricketer mohammad shami said whatsapp messages showed media check whatsapp verify neither chat phone number added shami said ready apologise allegations proved \n",
      "실제 요약 : you can check my whatsapp and verify shami on wife claims \n",
      "추상적 요약 :  whatsapp whatsapp whatsapp calls me on whatsapp divorce\n",
      "추출적 요약 : allegations extra marital affairs .\n",
      "ready apologise allegations proved\n",
      "\n",
      "\n",
      "원문 : bjp ended alliance pdp jammu kashmir former cm mehbooba mufti said allegations discrimination jammu ladakh basis reality valley needed focused attention turmoil long time added accusing bjp levelling false charges pdp mufti said bjp initiative \n",
      "실제 요약 : bjp claim of discrimination against jammu false mufti \n",
      "추상적 요약 :  pdp pdp alliance will not be pdp in kashmir mufti\n",
      "추출적 요약 : mufti said allegations discrimination jammu .\n",
      "charges pdp mufti said bjp .\n",
      "\n",
      "\n",
      "원문 : tamil nadu cm edappadi palaniswami sunday met farmers protesting jantar mantar delhi month demand drought relief fund waiver loans take pm demands put forward farmers urge farmers end protest said palaniswami \n",
      "실제 요약 : tn cm meets protesting farmers in delhi assures action \n",
      "추상적 요약 :  tn cm farmers seek relief for farmers protest in farmers\n",
      "추출적 요약 : palaniswami sunday met farmers protesting .\n",
      "jantar mantar delhi month demand .\n",
      "\n",
      "\n",
      "원문 : high school student friend mixed grandfather ashes homemade cookies shared least nine classmates california police said wednesday police said students unlikely charged crime would let matter handled school meanwhile school principal said personal family matter \n",
      "실제 요약 : teens ashes into for friends us police \n",
      "추상적 요약 :  boy held for taking selfie with boys in bengaluru\n",
      "추출적 요약 : high school student friend .\n",
      "let matter handled school meanwhile .\n",
      "\n",
      "\n",
      "원문 : mahindra group chairman anand mahindra sunday tweeted tamil nadu stock would going long right comes tamil actor rajinikanth announced decision enter politics rajinikanth said would float political party contest next state assembly elections constituencies \n",
      "실제 요약 : if tn was stock would be buying now mahindra on rajinikanth \n",
      "추상적 요약 :  will not contest any politics anand mahindra on rajinikanth\n",
      "추출적 요약 : mahindra sunday tweeted tamil nadu .\n",
      "decision enter politics rajinikanth said .\n",
      "\n",
      "\n",
      "원문 : maharashtra mlas allowed state use local area development funds works development mla spend lakh year cultural social events organised ngos lakh activity proposal approved state finance minister \n",
      "실제 요약 : maha allows mlas to use development funds for other work \n",
      "추상적 요약 :  maharashtra mlas to get out of bengaluru\n",
      "추출적 요약 : state finance minister\n",
      "\n",
      "\n",
      "원문 : prime minister narendra modi monday visited philippine foundation inc met nine year old boy fitted jaipur foot rubber based prosthetic leg people knee jaipur foot developed years ago bhagwan samiti india said world largest limb fitting society \n",
      "실제 요약 : pm modi meets yr old boy with jaipur foot in philippines \n",
      "추상적 요약 :  pm modi gifts his foot foot mission to mars\n",
      "추출적 요약 : fitted jaipur foot rubber based .\n",
      "foot developed years ago bhagwan .\n",
      "\n",
      "\n",
      "원문 : us deployed anti aircraft missiles first time use nato military drills lithuania comes ahead exercise russia belarus nato allies believe could increase russian presence notably baltic states expressed concern russia dominance region annexed crimea \n",
      "실제 요약 : us deploys anti aircraft missiles in for first time \n",
      "추상적 요약 :  us deploys missile with russia amid tensions with us\n",
      "추출적 요약 : missiles first time use nato .\n",
      "exercise russia belarus nato allies .\n",
      "\n",
      "\n",
      "원문 : salman khan father salim khan confirmed cheque crore dispatched compensate distributors losses incurred due box office performance tubelight salim earlier said distributor suffers loss producer needs show responsibility share burden \n",
      "실제 요약 : salman pays cr to over tubelight losses \n",
      "추상적 요약 :  salman khan dad earned crore in dues report\n",
      "추출적 요약 : salman khan father salim .\n",
      "khan confirmed cheque crore dispatched .\n",
      "\n",
      "\n",
      "원문 : american golf star tiger woods pleaded guilty reckless driving florida agreed enter diversion programme thereby avoiding jail time woods spend year probation pay fine court costs since woods intoxicated several drugs according court records also required undergo regular drug tests \n",
      "실제 요약 : tiger woods pleads guilty to driving avoids jail \n",
      "추상적 요약 :  tiger woods to pay lakh to pay for million\n",
      "추출적 요약 : court costs since woods intoxicated .\n",
      "several drugs according court records .\n",
      "\n",
      "\n",
      "원문 : shiv sena mp ravindra gaikwad whose assault year old air india staffer resulted formation government fly rule called ruling welcome move however also called stricter guidelines airline staff well gaikwad banned travelling various airlines attacked air india staffer slipper \n",
      "실제 요약 : mp whose behaviour in no fly rule hails the move \n",
      "추상적 요약 :  shiv sena mp gaikwad gaikwad mp gaikwad ban\n",
      "추출적 요약 : stricter guidelines airline staff well .\n",
      "gaikwad banned travelling various airlines .\n",
      "\n",
      "\n",
      "원문 : andhra pradesh recorded almost lightning hour period tuesday meteorological instrument maker revealed disaster management officials said number unusually high state reportedly recorded lightning entire month may nine people killed since tuesday due lightning \n",
      "실제 요약 : andhra pradesh records lightning in hours \n"
     ]
    },
    {
     "name": "stdout",
     "output_type": "stream",
     "text": [
      "추상적 요약 :  andhra pradesh to get special status for andhra pradesh\n",
      "추출적 요약 : state reportedly recorded lightning entire .\n",
      "since tuesday due lightning\n",
      "\n",
      "\n",
      "원문 : sitting mla rao andhra pradesh visakhapatnam former mla constituency shot dead naxals sunday leaders telugu desam party gone valley supporters extremists said involved attack \n",
      "실제 요약 : mla former mla shot dead by naxals in andhra pradesh \n",
      "추상적 요약 :  mla who killed mla for beating naxals in andhra\n",
      "추출적 요약 : sitting mla rao andhra .\n",
      "\n",
      "\n",
      "원문 : brazil deployed troops rio de janeiro combat rising crime city average three people killed stray bullets day year troops preparing operations criminal organisations involved drug trafficking theft crimes defence minister said \n",
      "실제 요약 : troops deployed in brazil rio to fight crime surge \n",
      "추상적 요약 :  brazil to fight in republic of republic day\n",
      "추출적 요약 : brazil deployed troops rio .\n",
      "stray bullets day year troops .\n",
      "\n",
      "\n",
      "원문 : french woman stranded known killer mountain pakistan occupied kashmir rescued however said could rescue partner developed snow blindness climb french woman left partner tent call help \n",
      "실제 요약 : french woman stranded at pok rescued \n",
      "추상적 요약 :  woman who survived attack on island gets stuck in\n",
      "추출적 요약 : french woman left partner tent .\n",
      "\n",
      "\n",
      "원문 : actress nargis fakhri denied pregnancy rumours jokingly adding maybe baby tell rumours began nargis spotted airport hiding face palm also tweeted anyone get joke laugh jokes \n",
      "실제 요약 : maybe it is baby nargis on pregnancy rumours \n",
      "추상적 요약 :  am not making baby on pregnancy rumours\n",
      "추출적 요약 : pregnancy rumours jokingly adding maybe .\n",
      "\n",
      "\n",
      "원문 : driver cab hailing platform lyft claimed found google smartphone pixel xl cab dropped passengers driver earlier thought phone pixel xl took pictures phone returning owner phone pictures show features notch \n",
      "실제 요약 : passenger forgets google phone in cab report \n",
      "추상적 요약 :  man claims google google loses lakh in\n",
      "추출적 요약 : driver earlier thought phone pixel .\n",
      "xl took pictures phone returning .\n",
      "\n",
      "\n",
      "원문 : iranian government promoting use local messaging app features death america emoji according reports promotion app reportedly aimed convincing iranians switch telegram messaging app local one iran recently banned government bodies using telegram messenger communicate citizens \n",
      "실제 요약 : iran includes death to america emoji in state approved app \n",
      "추상적 요약 :  iran iran bans internet in app\n",
      "추출적 요약 : app reportedly aimed convincing iranians .\n",
      "switch telegram messaging app local .\n",
      "\n",
      "\n",
      "원문 : video surfaced online wherein indian air force officer seen thrashed mob southeast delhi sangam vihar area reportedly incident took place april officer motorcycle touched car accused following attacked robbed delhi police arrested three persons connection \n",
      "실제 요약 : video shows iaf officer being thrashed by mob three held \n",
      "추상적 요약 :  video of iaf officer assaulted by men in delhi\n",
      "추출적 요약 : indian air force officer seen .\n",
      "place april officer motorcycle touched .\n",
      "\n",
      "\n",
      "원문 : russian president vladimir putin signed law allows transfer cash russia ukraine companies controlled russian central bank comes ukraine forced local banks ban six russian payment systems last year notably money transfers russia ukraine dropped billion million \n",
      "실제 요약 : russian prez putin limits cash transfers to ukraine \n",
      "추상적 요약 :  russia to pay russian ships to ukraine\n",
      "추출적 요약 : russia ukraine companies controlled russian .\n",
      "money transfers russia ukraine dropped .\n",
      "\n",
      "\n",
      "원문 : uttarakhand high court said would act legal guardian cows state directions state government court ordered setting cow shelter every cluster villages registering cases abandon cattle court order added commercial charges shall levied supplying electricity \n",
      "실제 요약 : uttarakhand hc appoints itself legal guardian of cows in state \n",
      "추상적 요약 :  hc orders hc order to cow cow shelter cases\n",
      "추출적 요약 : ordered setting cow shelter every .\n",
      "cattle court order added commercial .\n",
      "\n",
      "\n",
      "원문 : european union leaders saturday promised embrace british province northern ireland brexit ever ireland notably good friday agreement end violence northern ireland holding sides border island uk ireland see public support \n",
      "실제 요약 : united ireland would be full member eu \n",
      "추상적 요약 :  eu to europe first ever state of brexit\n",
      "추출적 요약 : promised embrace british province northern .\n",
      "northern ireland holding sides border .\n",
      "\n",
      "\n",
      "원문 : film lipstick burkha declared eligible compete th golden globe awards film selected hollywood foreign press association screening indian film festival los angeles director film alankrita shrivastava choose submit film nomination upcoming golden \n",
      "실제 요약 : lipstick under my burkha eligible to compete at golden globe \n",
      "추상적 요약 :  lipstick under the burkha at world film festival\n",
      "추출적 요약 : film lipstick burkha declared .\n",
      "festival los angeles director film .\n",
      "\n",
      "\n",
      "원문 : russian foreign ministry wednesday said scary uk foreign secretary boris johnson represents country nuclear power comes johnson supported uk mp ian austin claim russian president vladimir putin use russia fifa world cup like adolf hitler used olympic games glorify nazi ideology \n",
      "실제 요약 : scary that johnson nuclear power uk russia \n",
      "추상적 요약 :  russia to be allowed to uk foreign foreign minister\n",
      "추출적 요약 : russian foreign ministry wednesday .\n",
      "power comes johnson supported uk .\n",
      "\n",
      "\n"
     ]
    }
   ],
   "source": [
    "for i in range(50, 100):\n",
    "    print(\"원문 :\", seq2text(encoder_input_test[i]))\n",
    "    print(\"실제 요약 :\", seq2summary(decoder_input_test[i]))\n",
    "    print(\"추상적 요약 :\", decode_sequence(encoder_input_test[i].reshape(1, text_max_len)))\n",
    "    \n",
    "    dot_index = 0\n",
    "    new_text = []\n",
    "    for j in seq2text(encoder_input_test[i]).split():\n",
    "        new_text.append(j)\n",
    "        dot_index += 1\n",
    "        if dot_index %5 == 4:\n",
    "            new_text.append(\".\")\n",
    "        \n",
    "    print(\"추출적 요약 :\", summarize(' '.join(new_text), ratio=0.3))\n",
    "    print(\"\\n\")"
   ]
  },
  {
   "cell_type": "code",
   "execution_count": 57,
   "metadata": {},
   "outputs": [],
   "source": [
    "urllib.request.urlretrieve(\"https://raw.githubusercontent.com/sunnysai12345/News_Summary/master/news_summary_more.csv\", filename=\"news_summary_more.csv\")\n",
    "origin = pd.read_csv('news_summary_more.csv', encoding='iso-8859-1')"
   ]
  },
  {
   "cell_type": "code",
   "execution_count": 139,
   "metadata": {},
   "outputs": [
    {
     "name": "stdout",
     "output_type": "stream",
     "text": [
      "원문 : Former Finance Minister Yashwant Sinha on Tuesday demanded a probe into the alleged diversion of loans worth Ã¢ÂÂ¹31,000 crore by Dewan Housing Finance (DHFL). All agencies including regulators of the government have failed to track nefarious deals, he said. This comes after a media report on Tuesday accused DHFL's controlling shareholders of diverting funds to shell companies to buy assets.\n",
      "원문의 길이 : 395\n",
      "실제 요약 : Yashwant Sinha demands probe into alleged fund diversion by DHFL\n",
      "추출적 요약 : Former Finance Minister Yashwant Sinha on Tuesday demanded a probe into the alleged diversion of loans worth Ã¢ÂÂ¹31,000 crore by Dewan Housing Finance (DHFL).\n",
      "\n",
      "\n",
      "원문 : US-based Boeing on Wednesday reported annual sales worth $101.12 billion in 2018, the first time the planemaker's sales crossed the $100-billion mark in its 102-year history. The company said it expects to deliver between 895 and 905 commercial aircraft in 2019. Boeing retained its position as the world's largest planemaker for the seventh straight year, delivering 806 aircraft in 2018. \n",
      "원문의 길이 : 390\n",
      "실제 요약 : Boeing sales cross $100bn for 1st time in its 102-yr history\n",
      "추출적 요약 : Boeing retained its position as the world's largest planemaker for the seventh straight year, delivering 806 aircraft in 2018.\n",
      "\n",
      "\n",
      "원문 : text\n",
      "원문의 길이 : 4\n",
      "실제 요약 : headlines\n",
      "추출적 요약 : \n",
      "\n",
      "\n",
      "원문 : OnePlus has emerged as India's best-selling premium smartphone brand of 2018, as per a report by Counterpoint. It captured 36% of the market share in the premium segment, in Q4 2018. Further, its OnePlus 6 emerged as the highest selling premium smartphone of 2018 followed by OnePlus 6T.\n",
      "원문의 길이 : 287\n",
      "실제 요약 : OnePlus named bestselling premium smartphone brand of 2018: Report\n",
      "추출적 요약 : Further, its OnePlus 6 emerged as the highest selling premium smartphone of 2018 followed by OnePlus 6T.\n",
      "\n",
      "\n",
      "원문 : Filmmaker Pooja Bhatt, while talking about the presentation of women in her films, said, \"I can never look at a female body, even if it's naked, in a vulgar manner.\" \"Our audience can say...the women in my films are bold or sensual, but never ever vulgar,\" she added. Pooja further said her censor board is her \"own heart and mind\".\n",
      "원문의 길이 : 332\n",
      "실제 요약 : Can never look at female body, even if naked, in vulgar way: Pooja\n",
      "추출적 요약 : \n",
      "\n",
      "\n",
      "원문 : Actress Mishti, who has featured in 'Manikarnika: The Queen of Jhansi', has said the film's co-director Kangana Ranaut made false promises to the cast. \"Kangana had said, 'I want dates because all characters look jumbled up...I'm trying my best to give everybody a prominent space on screen.' After watching the movie, there is no scope for other characters,\" Mishti added. \n",
      "원문의 길이 : 374\n",
      "실제 요약 : Kangana made fake promises to cast: 'Manikarnika' actress Mishti\n",
      "추출적 요약 : \n",
      "\n",
      "\n",
      "원문 : The high-powered committee led by PM Narendra Modi to select the next CBI Director will meet again on February 1, Congress leader Mallikarjun Kharge has said. The panel consisting of Kharge and Chief Justice of India Ranjan Gogoi met on January 24, but the meeting ended \"inconclusively\" after Kharge cited lack of details in the list of 80 IPS officers. \n",
      "원문의 길이 : 355\n",
      "실제 요약 : PM-led panel to meet on Friday to pick new CBI chief: Kharge\n",
      "추출적 요약 : \n",
      "\n",
      "\n",
      "원문 : Nevada State Athletic Commission has banned MMA fighters Conor McGregor and Khabib Nurmagomedov for six months and nine months respectively over their roles in the mass brawl that occurred after their fight at UFC 229 last October. McGregor and Khabib have been fined $50,000 (Ã¢ÂÂ¹35 lakh) and $500,000 (Ã¢ÂÂ¹3.5 crore) respectively. The brawl occurred after Nurmagomedov confronted McGregor's teammate.\n",
      "원문의 길이 : 406\n",
      "실제 요약 : McGregor fined Ã¢ÂÂ¹35 lakh, Khabib Ã¢ÂÂ¹3.5 crore for brawl; both banned\n",
      "추출적 요약 : Nevada State Athletic Commission has banned MMA fighters Conor McGregor and Khabib Nurmagomedov for six months and nine months respectively over their roles in the mass brawl that occurred after their fight at UFC 229 last October.\n",
      "\n",
      "\n",
      "원문 : Pakistan captain Sarfaraz Ahmed, who has been banned for four matches over racist remarks, took an apparent dig at his critics by sharing a video of a child reciting 'log hai na' poem on Twitter. \"Pyaar karna hai to khud se kar...dushmani karne ke liye log hai na,\" the poem read. \"This is how the world is,\" Sarfaraz wrote.\n",
      "원문의 길이 : 324\n",
      "실제 요약 : Banned for 4 matches, Sarfaraz shares 'log hai na' poem for critics\n",
      "추출적 요약 : Pakistan captain Sarfaraz Ahmed, who has been banned for four matches over racist remarks, took an apparent dig at his critics by sharing a video of a child reciting 'log hai na' poem on Twitter.\n",
      "\n",
      "\n",
      "원문 : Banned cricketer Sreesanth has told Supreme Court he initially confessed to Delhi Police about his alleged involvement in 2013 IPL spot-fixing scandal to escape continuous police torture. Sreesanth further said the bookie tried dragging him into spot-fixing but he didn't fall for it. Citing Sreesanth not informing BCCI about fixing approach, the apex court said Sreesanth's conduct \"wasn't good\".\n",
      "원문의 길이 : 398\n",
      "실제 요약 : Confessed to spot-fixing to escape police torture: Sreesanth to SC\n",
      "추출적 요약 : Sreesanth further said the bookie tried dragging him into spot-fixing but he didn't fall for it.\n",
      "\n",
      "\n",
      "원문 : The Finance Ministry on Wednesday said the government will present an Interim Budget on February 1. The clarification came amid speculations that a full Budget may be presented during the session. The government recently assigned Piyush Goyal temporary additional charge of the Finance and Corporate Affairs ministries in the absence of Arun Jaitley, who is in the US for treatment.\n",
      "원문의 길이 : 382\n",
      "실제 요약 : Govt to present Interim Budget, not full Budget on February 1\n",
      "추출적 요약 : The Finance Ministry on Wednesday said the government will present an Interim Budget on February 1.\n",
      "\n",
      "\n",
      "원문 : US President Donald Trump on Wednesday called his country's top intelligence chiefs \"naive\" and \"wrong\" on Iran and added that they should perhaps \"go back to school\". Trump claimed Iran is testing rockets, calling the country \"a source of potential danger and conflict\". Top US intelligence officials on Tuesday said that Iran isn't currently taking steps towards building nuclear weapons.\n",
      "원문의 길이 : 390\n",
      "실제 요약 : US intelligence naive and wrong, should go back to school: Trump\n",
      "추출적 요약 : US President Donald Trump on Wednesday called his country's top intelligence chiefs \"naive\" and \"wrong\" on Iran and added that they should perhaps \"go back to school\".\n",
      "\n",
      "\n",
      "원문 : A senior priest at the Vatican who handled cases of sexual abuse has quit after being accused of sexual abuse by a former nun. The accused priest claimed he is innocent and said he would consider taking legal action. The Vatican said in a statement that a Church investigation of the case was underway.\n",
      "원문의 길이 : 302\n",
      "실제 요약 : Vatican priest handling sex abuse cases quits over alleged sex abuse\n",
      "추출적 요약 : A senior priest at the Vatican who handled cases of sexual abuse has quit after being accused of sexual abuse by a former nun.\n",
      "\n",
      "\n",
      "원문 : A 22-year-old writer turned down a job offer, claiming she was bullied to the point of tears during her two-hour interview by a UK company's CEO. Olivia Bland added the \"brutal\" interview brought back painful memories of her abusive relationship. \"I am so sorry that anyone has been hurt, it is never my intent,\" Web Applications CEO Craig Dean replied. \n",
      "원문의 길이 : 354\n",
      "실제 요약 : Woman rejects job after CEO bullies her in interview; he apologises\n",
      "추출적 요약 : A 22-year-old writer turned down a job offer, claiming she was bullied to the point of tears during her two-hour interview by a UK company's CEO.\n",
      "\n",
      "\n",
      "원문 : Noida Police has arrested Sector 20 station in-charge Manoj Pant and three journalists for allegedly extorting money from a call centre owner for removing his name from an FIR. The four were caught while taking bribe money of Ã¢ÂÂ¹8 lakh, police said. Pant was the lead investigator in the Paytm extortion case involving Founder Vijay Shekhar Sharma's secretary Sonia Dhawan.\n",
      "원문의 길이 : 376\n",
      "실제 요약 : Police officer probing Paytm extortion case arrested for extortion\n",
      "추출적 요약 : Noida Police has arrested Sector 20 station in-charge Manoj Pant and three journalists for allegedly extorting money from a call centre owner for removing his name from an FIR.\n",
      "\n",
      "\n",
      "원문 : Airtel on Wednesday said that Qatar's sovereign wealth fund Qatar Investment Authority will invest $200 million through a primary equity issuance in Airtel Africa. India's second-largest telecom operator's Africa unit recently raised $1.25 billion from six investors. Airtel Africa, the holding company for Airtel's operations in 14 African countries, is preparing for an initial public offering.\n",
      "원문의 길이 : 396\n",
      "실제 요약 : Qatar to invest $200 million in Airtel Africa\n",
      "추출적 요약 : Airtel Africa, the holding company for Airtel's operations in 14 African countries, is preparing for an initial public offering.\n",
      "\n",
      "\n",
      "원문 : Actor Shreyas Talpade said that 'Golmaal' filmmaker Rohit Shetty is still working on the script for the fifth instalment of the 'Golmaal' film franchise. \"He was telling us the other day that he...cracked some story. Once he's done with the...scripting, he'll take a call,Ã¢ÂÂ the actor added. The series features Shreyas along with Ajay Devgn, Arshad Warsi and Tusshar Kapoor.\n",
      "원문의 길이 : 379\n",
      "실제 요약 : Rohit Shetty still working on script for Golmaal 5: Shreyas\n",
      "추출적 요약 : Actor Shreyas Talpade said that 'Golmaal' filmmaker Rohit Shetty is still working on the script for the fifth instalment of the 'Golmaal' film franchise.\n",
      "\n",
      "\n",
      "원문 : A 72-year-old man named Terry Sanderson has sued 'Avengers' actress Gwyneth Paltrow for allegedly crashing into him while skiing, and is seeking $3.1 million (over Ã¢ÂÂ¹22 crore) in damages. The lawsuit states the actress got up and skied away after knocking the man down, leaving him with broken ribs. The incident reportedly took place in 2016 in Utah, US. \n",
      "원문의 길이 : 360\n",
      "실제 요약 : Man sues Avengers actress Gwyneth for Ã¢ÂÂ¹22 crore over ski crash\n",
      "추출적 요약 : A 72-year-old man named Terry Sanderson has sued 'Avengers' actress Gwyneth Paltrow for allegedly crashing into him while skiing, and is seeking $3.1 million (over Ã¢ÂÂ¹22 crore) in damages.\n",
      "\n",
      "\n",
      "원문 : Yami Gautam was felicitated by Border Security Force (BSF) in Amritsar for her performance in 'Uri: The Surgical Strike'. \"BSF is the first line of defence of our country and it gives me...pride to have met them,\" Yami said. The film, which also stars Vicky Kaushal, is based on the Indian Army's surgical strike operation which took place in 2016.\n",
      "원문의 길이 : 348\n",
      "실제 요약 : Yami Gautam felicitated by BSF for performance in 'Uri...'\n",
      "추출적 요약 : Yami Gautam was felicitated by Border Security Force (BSF) in Amritsar for her performance in 'Uri: The Surgical Strike'.\n",
      "\n",
      "\n",
      "원문 : Social media giant Facebook has hired privacy critic Nate Cardozo, formerly the top legal counsel for US privacy watchdog EFF, as a privacy policy manager for WhatsApp. Cardozo had called Facebook a \"faceless corporation\" whose business model depends on user's confusion and indifference about privacy, in October 2015. Facebook has also hired attorney Robyn Greene as its privacy policy manager.\n",
      "원문의 길이 : 396\n",
      "실제 요약 : Facebook hires its privacy critic as privacy policy manager\n",
      "추출적 요약 : \n",
      "\n",
      "\n",
      "원문 : Apple CEO Tim Cook said the company plans to lower some iPhones' prices in markets with currencies that weakened against the US dollar in the past year. \"WeÃ¢ÂÂve decided to go back to (iPhone prices) more commensurate with...local prices...a year ago,\" Cook added. The price cuts, in hopes of increasing sales, are reportedly occurring for second time in 12 years.\n",
      "원문의 길이 : 367\n",
      "실제 요약 : Apple to cut some iPhones' prices outside US over strong dollar\n",
      "추출적 요약 : \"WeÃ¢ÂÂve decided to go back to (iPhone prices) more commensurate with...local prices...a year ago,\" Cook added.\n",
      "\n",
      "\n",
      "원문 : Scientists in Australia's Flinders University are testing a wetsuit prototype that could protect its wearer after a shark attack. The suit, made of synthetic material similar to the material used in bulletproof vests, could help reduce blood loss after a shark attack. \"The majority of fatalities from shark bites is due to blood loss...shock from blood loss,\" a scientist said.\n",
      "원문의 길이 : 378\n",
      "실제 요약 : Scientists test wetsuit to protect wearer after shark attack\n",
      "추출적 요약 : \"The majority of fatalities from shark bites is due to blood loss...shock from blood loss,\" a scientist said.\n",
      "\n",
      "\n",
      "원문 : BJP National Secretary Rahul Sinha on Wednesday asked the party workers in West Bengal to come armed with sticks to PM Narendra Modi's rally in the state on February 2. His statement came a day after clashes broke out following BJP chief Amit Shah's WB rally. Sinha added the TMC is indulged in violence as they're afraid of BJP's strength.\n",
      "원문의 길이 : 340\n",
      "실제 요약 : Come armed with sticks for PM Modi's rally in WB: BJP leader\n",
      "추출적 요약 : BJP National Secretary Rahul Sinha on Wednesday asked the party workers in West Bengal to come armed with sticks to PM Narendra Modi's rally in the state on February 2.\n",
      "\n",
      "\n",
      "원문 : BJP President Amit Shah on Wednesday took a dig at the Opposition parties saying that the 'mahagathbandhan' for the Opposition is 4B - \"Bua-Bhatija-Bhai-Behen\". He added that 4B for the BJP meant \"Badhta Bharat, Banta Bharat\". He said Opposition's government cannot take the country ahead and \"only Modiji can provide a 'mazboot' (strong) government\".\n",
      "원문의 길이 : 351\n",
      "실제 요약 : '4B' for Opposition is 'Bua-Bhatija-Bhai-Behen': Amit Shah\n",
      "추출적 요약 : BJP President Amit Shah on Wednesday took a dig at the Opposition parties saying that the 'mahagathbandhan' for the Opposition is 4B - \"Bua-Bhatija-Bhai-Behen\".\n",
      "\n",
      "\n",
      "원문 : German automaker Volkswagen Group has retained the car industry's top spot in global sales, beating its Japanese rival Toyota. Volkswagen's sales, including its MAN and Scania heavy trucks and buses, rose 0.9% to 10.83 million in 2018, the company had said. Toyota came second with around 10.6 million deliveries, including its affiliated brands Daihatsu and Hino, in 2018.\n",
      "원문의 길이 : 373\n",
      "실제 요약 : Volkswagen retains top spot in global sales, beats Toyota\n",
      "추출적 요약 : Volkswagen's sales, including its MAN and Scania heavy trucks and buses, rose 0.9% to 10.83 million in 2018, the company had said.\n",
      "\n",
      "\n",
      "원문 : Ousted Nissan Chairman Carlos Ghosn has said his arrest over alleged financial misconduct was led by \"plot and treason\" by the Japanese carmaker's executives who opposed its deeper integration with Renault and Mitsubishi. Ghosn added he had discussed the integration plans with Nissan's CEO in September, a month before his arrest. He further said he wouldn't flee if granted bail.\n",
      "원문의 길이 : 381\n",
      "실제 요약 : Plot, treason by Nissan executives led to my arrest: Ghosn\n",
      "추출적 요약 : Ousted Nissan Chairman Carlos Ghosn has said his arrest over alleged financial misconduct was led by \"plot and treason\" by the Japanese carmaker's executives who opposed its deeper integration with Renault and Mitsubishi.\n",
      "\n",
      "\n",
      "원문 : The government has cut down customs duty on import of parts and components for electric vehicles to 10-15%, down from the previous 15-30%. The Central Board of Indirect Taxes and Customs said disassembled parts will attract 10% duty, whereas 15% will be levied on pre-assembled packs. However, fully built electric vehicles will continue to attract 25% import duty.\n",
      "원문의 길이 : 365\n",
      "실제 요약 : Govt cuts customs duty on electric vehicle parts to 10-15%\n",
      "추출적 요약 : The government has cut down customs duty on import of parts and components for electric vehicles to 10-15%, down from the previous 15-30%.\n",
      "\n",
      "\n",
      "원문 : Government officials on Wednesday said that a swine flu outbreak has killed 76 people this year in Rajasthan. Colder weather has worsened the seasonal outbreak of the H1N1 virus in the country, officials added. Rajasthan recorded more than a third of all swine flu deaths in India with Jodhpur being the worst affected area in the state, officials said.\n",
      "원문의 길이 : 353\n",
      "실제 요약 : Swine flu outbreak kills 76 in Rajasthan\n",
      "추출적 요약 : Government officials on Wednesday said that a swine flu outbreak has killed 76 people this year in Rajasthan.\n",
      "\n",
      "\n",
      "원문 : North Korea is \"unlikely to completely give up its nuclear weapons and production capabilities\", Director of US' National Intelligence, Daniel Coats, said. \"North Korean leaders view nuclear arms as critical to regime survival,\" he added. His statements come despite North Korea's agreement with the US at the Singapore summit last year to denuclearise the Korean Peninsula. \n",
      "원문의 길이 : 375\n",
      "실제 요약 : N Korea unlikely to give up nuclear weapons: US intelligence chief\n",
      "추출적 요약 : \"North Korean leaders view nuclear arms as critical to regime survival,\" he added.\n",
      "\n",
      "\n",
      "원문 : Jet Airways on Wednesday denied it was directed by GE Capital Aviation Services to ground its aircraft due to non-payment of dues. The airline said it's in the process of delivering three aircraft to lessors due to the expiry of lease terms. Further, three aircraft have been temporarily grounded to carry out an engine normalisation exercise, it added.\n",
      "원문의 길이 : 353\n",
      "실제 요약 : Jet Airways denies being told to ground aircraft\n",
      "추출적 요약 : Further, three aircraft have been temporarily grounded to carry out an engine normalisation exercise, it added.\n",
      "\n",
      "\n",
      "원문 : Retired Justice Srikrishna's enquiry panel has found that ex-CEO Chanda Kochhar violated ICICI Bank's code of conduct. The bank said it'll treat Kochhar's exit as termination and will take back all bonuses paid to her from April 2009 until March 2018. The CBI recently filed a case against Kochhar, her husband, and Videocon MD in the ICICI-Videocon loan case.\n",
      "원문의 길이 : 360\n",
      "실제 요약 : ICICI fires Chanda Kochhar, to take back bonuses paid in last 9 yrs\n",
      "추출적 요약 : Retired Justice Srikrishna's enquiry panel has found that ex-CEO Chanda Kochhar violated ICICI Bank's code of conduct.\n",
      "\n",
      "\n",
      "원문 : Ex-India cricketer Jacob Martin has been shifted to general ward from the ICU after being on a ventilator for nearly a month following a road accident, wherein he severely injured his lungs. Martin's wife Khyati mentioned there are chances that Jacob will be in hospital for two more months. BCCI, CSK and various cricketers provided financial assistance for Martin's treatment.\n",
      "원문의 길이 : 378\n",
      "실제 요약 : Ex-cricketer Martin out of ICU after being on ventilator for a month\n",
      "추출적 요약 : Ex-India cricketer Jacob Martin has been shifted to general ward from the ICU after being on a ventilator for nearly a month following a road accident, wherein he severely injured his lungs.\n",
      "\n",
      "\n",
      "원문 : Sri Lanka all-rounder Thisara Perera has written to Sri Lanka Cricket CEO Ashley de Silva, asking the board to intervene after ODI captain Lasith Malinga's wife Tanya targeted him on Facebook. Tanya accused Perera of meeting country's Sports Minister to secure his place in the team. \"We've become laughing stock of whole country...because of one person's personal vendetta,\" Perera wrote.\n",
      "원문의 길이 : 389\n",
      "실제 요약 : Malinga's wife targets Perera on Facebook, he seeks board's help\n",
      "추출적 요약 : Tanya accused Perera of meeting country's Sports Minister to secure his place in the team.\n",
      "\n",
      "\n",
      "원문 : Goa CM and ex-Defence Minister Manohar Parrikar has written a letter to Congress President Rahul Gandhi over his claim that Parrikar told him he has nothing to do with new Rafale deal. Parrikar wrote, \"Kindly do not use your visit to an ailing person to feed political opportunism.\" In their five-minute meeting, they didn't discuss anything about Rafale, he added.\n",
      "원문의 길이 : 365\n",
      "실제 요약 : Don't use visit to ailing man for political gains: Goa CM to Rahul\n",
      "추출적 요약 : \n",
      "\n",
      "\n",
      "원문 : Prime Minister Narendra Modi stopped his speech at the inauguration of the new terminal building at Surat airport after observing that a cameraman had fainted. PM Modi then asked his officers to urgently arrange for an ambulance for the cameraman. \"It's good that PM was paying attention to his surroundings during his speech,\" the cameraman later said from a hospital. \n",
      "원문의 길이 : 370\n",
      "실제 요약 : PM Modi stops speech after cameraman faints, asks officers to help\n",
      "추출적 요약 : PM Modi then asked his officers to urgently arrange for an ambulance for the cameraman.\n",
      "\n",
      "\n",
      "원문 : A couple got divorced minutes after their wedding ceremony got over in Gujarat's Gondal as a disagreement broke out and relatives from both sides started throwing dishes at each other during lunch. The advocates representing both sides arrived at the marriage hall and got the couple divorced within minutes. The couple even reportedly returned the gifts exchanged during the ceremony.\n",
      "원문의 길이 : 385\n",
      "실제 요약 : Couple divorces minutes after marriage as families fight over lunch\n",
      "추출적 요약 : A couple got divorced minutes after their wedding ceremony got over in Gujarat's Gondal as a disagreement broke out and relatives from both sides started throwing dishes at each other during lunch.\n",
      "\n",
      "\n",
      "원문 : Gujarat Education Minister Bhupendrasinh Chudasma has written a congratulatory message to a yoga ashram run by rape-convict Asaram's organisation for observing February 14 as \"Matru-Pitru Pujan Divas\" (Mother-Father worship day). After the Congress termed the letter as \"unfortunate\", saying it \"shows the nexus between BJP and godman\", Chudasma clarified, \"All I have done is sent best wishes.\" \n",
      "원문의 길이 : 396\n",
      "실제 요약 : Minister praises rape-convict Asaram over Matru-Pitru Divas\n",
      "추출적 요약 : \n",
      "\n",
      "\n",
      "원문 : Venezuelan President NicolÃÂ¡s Maduro has claimed that his American counterpart Donald Trump ordered the Colombian government and the Colombian mafia to kill him. \"If something happens to me, Trump and Colombian President IvÃÂ¡n MÃÂ¡rquez will bear responsibility,\" he added. The US has blamed Maduro for the economic crisis in Venezuela and recognised opposition leader Juan GuaidÃÂ³ as interim President.\n",
      "원문의 길이 : 410\n",
      "실제 요약 : Trump ordered to kill me: Venezuela President Maduro\n",
      "추출적 요약 : Venezuelan President NicolÃÂ¡s Maduro has claimed that his American counterpart Donald Trump ordered the Colombian government and the Colombian mafia to kill him.\n",
      "\n",
      "\n",
      "원문 : Eight Asian billionaires aged 90 or above on the Bloomberg Billionaires Index of world's 500 richest people have a combined net worth of $125 billion. The richest among them is Hong Kong's Li Ka Shing with a net worth of $30.5 billion. India's 90-year-old Pallonji Mistry, who controls 18.3% of Tata Sons through Shapoorji Pallonji Group, is worth $20.1 billion.\n",
      "원문의 길이 : 362\n",
      "실제 요약 : 8 Asian billionaires aged over 90, including Mistry, control $125bn\n",
      "추출적 요약 : The richest among them is Hong Kong's Li Ka Shing with a net worth of $30.5 billion.\n",
      "\n",
      "\n",
      "원문 : Tamil Nadu food safety officials on Wednesday raided and seized 1,000 kgs of banned plastic items from Hotel Saravana Bhavan in Chennai's Vadapalani. Officials began a surprise check in the branch at 8 am. The state government had banned single-use plastics from January 1 and said the banned items should be handed over at the offices of the city corporation.\n",
      "원문의 길이 : 360\n",
      "실제 요약 : 1,000 kg banned plastic seized from Saravana Bhavan in Chennai\n",
      "추출적 요약 : Tamil Nadu food safety officials on Wednesday raided and seized 1,000 kgs of banned plastic items from Hotel Saravana Bhavan in Chennai's Vadapalani.\n",
      "\n",
      "\n",
      "원문 : Actress Shamita Shetty was verbally abused and her driver was slapped in an incident of road rage in Mumbai on Tuesday, as per reports. The incident reportedly took place after a motorist who was accompanied by two friends, rammed his vehicle into Shamita's car. The men allegedly manhandled and threatened Shamita's driver when he stepped out to inspect the damage. \n",
      "원문의 길이 : 367\n",
      "실제 요약 : Shamita Shetty abused, driver slapped after accident: Report\n",
      "추출적 요약 : Actress Shamita Shetty was verbally abused and her driver was slapped in an incident of road rage in Mumbai on Tuesday, as per reports.\n",
      "\n",
      "\n",
      "원문 : Actress Vaani Kapoor said that trolling has become a norm on social media, adding, \"There's no one who hasn't got trolled on social media.\" \"Everybody is out there to pull the other person down but it'll only bother [you] if you let it bother you,\" Vaani added. She further said, social media offers a platform \"where people enjoy belittling everybody\". \n",
      "원문의 길이 : 354\n",
      "실제 요약 : Trolling has become the norm on social media: Vaani\n",
      "추출적 요약 : \n",
      "\n",
      "\n",
      "원문 : Actress Sushmita Sen took to Instagram to share a joke on the subject of marriage. \"Whoever invented marriage was creepy as hell. Like I love you so much IÃ¢ÂÂm gonna get the government involved so you canÃ¢ÂÂt leave,\" Sushmita's post read. \"This is an insult to [the] beauty of marriage,\" an Instagram user commented on her post.\n",
      "원문의 길이 : 334\n",
      "실제 요약 : Whoever invented marriage was creepy as hell: Sushmita posts joke\n",
      "추출적 요약 : \"This is an insult to [the] beauty of marriage,\" an Instagram user commented on her post.\n",
      "\n",
      "\n",
      "원문 : Television actor Karanvir Bohra, who flew to Russia on Tuesday to attend a film festival, has been detained in Moscow due to passport damage. \"They [are] contemplating to deport me back to India,\" the actor wrote on Twitter. The Indian embassy in Russia's capital responded to his tweet and said that they were looking into the issue. \n",
      "원문의 길이 : 335\n",
      "실제 요약 : Actor Karanvir Bohra detained in Russia over passport damage\n",
      "추출적 요약 : Television actor Karanvir Bohra, who flew to Russia on Tuesday to attend a film festival, has been detained in Moscow due to passport damage.\n",
      "\n",
      "\n",
      "원문 : While speaking about winning awards for his films, Shah Rukh Khan said, \"If I don't get an award, that award is at a loss.\" \"Sometimes, the prestige of an award increases when I receive it,\" the actor jokingly added. Shah Rukh further said that he was \"extremely ambitious\" but in a \"fair manner\". \n",
      "원문의 길이 : 298\n",
      "실제 요약 : If I don't get an award, that award is at loss: SRK\n",
      "추출적 요약 : \n",
      "\n",
      "\n",
      "원문 : Actress Patralekhaa will make her debut in the Kannada film industry with the action-comedy film 'Where is my Kannadaka?' \"I can definitely say that itÃ¢ÂÂs a kind of role that I havenÃ¢ÂÂt portrayed on screen so far and that makes it special for me,\" the actress said in a statement. Shooting for the film will reportedly begin in April.\n",
      "원문의 길이 : 342\n",
      "실제 요약 : Actress Patralekhaa to make her Kannada film debut \n",
      "추출적 요약 : \n",
      "\n",
      "\n",
      "원문 : Gmail on Tuesday faced a global outage, which also affected India, wherein certain users complained they faced a '404 error' message while trying to sign-in to their accounts. The error message read: \"The requested URL was not found on this server. That's all we know.\" Google responded saying \"problem with Gmail should be resolved (now). We apologise for the inconvenience\".\n",
      "원문의 길이 : 376\n",
      "실제 요약 : Gmail faces temporary global outage, users face '404 error'\n",
      "추출적 요약 : Gmail on Tuesday faced a global outage, which also affected India, wherein certain users complained they faced a '404 error' message while trying to sign-in to their accounts.\n",
      "\n",
      "\n",
      "원문 : Shiv Sena chief Uddhav Thackeray has asked the BJP to decide about the alliance with the Sena within 15 days and said the BJP should make a concrete proposal on the alliance. Thackeray added that only if the BJP agrees to Sena's terms and conditions, the party will agree for an alliance. Sena is free to fight independently, he said. \n",
      "원문의 길이 : 335\n",
      "실제 요약 : Decide about an alliance within 15 days: Uddhav to BJP\n",
      "추출적 요약 : Shiv Sena chief Uddhav Thackeray has asked the BJP to decide about the alliance with the Sena within 15 days and said the BJP should make a concrete proposal on the alliance.\n",
      "\n",
      "\n",
      "원문 : BJP President Amit Shah on Wednesday took a dig at the Opposition's proposed grand alliance saying if the \"mahagathbandhan comes to power, each opposition leader will be a Prime Minister every day of the week\". He added, \"[The] country will go on...holiday on Sunday\". He said the Opposition is thinking about leading the country but does not have a leader.\n",
      "원문의 길이 : 357\n",
      "실제 요약 : Grand alliance, if wins, will see a new PM every day: Shah\n",
      "추출적 요약 : He said the Opposition is thinking about leading the country but does not have a leader.\n",
      "\n",
      "\n",
      "원문 : Prime Minister Narendra Modi on Wednesday said his government's demonetisation decision made houses affordable for the aspiring youth. He added decisions like demonetisation and RERA have put a check on black money that used to be \"parked in the real estate sector\". He said 'UDAN' (Ude Desh ka Aam Nagrik) scheme has boosted the development of the country's aviation sector.\n",
      "원문의 길이 : 375\n",
      "실제 요약 : Demonetisation made homes affordable for youth: PM Modi\n",
      "추출적 요약 : He added decisions like demonetisation and RERA have put a check on black money that used to be \"parked in the real estate sector\".\n",
      "\n",
      "\n"
     ]
    }
   ],
   "source": [
    "for i in range(50, 100):\n",
    "    print(\"원문 :\", origin['text'][i])\n",
    "    print(\"원문의 길이 :\", len(origin['text'][i]))\n",
    "    print(\"실제 요약 :\", origin['headlines'][i])\n",
    "    print(\"추출적 요약 :\", summarize(origin['text'][i], ratio=0.37)) # clean_text[i]\n",
    "    print(\"\\n\")"
   ]
  },
  {
   "cell_type": "markdown",
   "metadata": {},
   "source": [
    "### 추상적 요약 vs. 추출적 요약"
   ]
  },
  {
   "cell_type": "markdown",
   "metadata": {},
   "source": [
    "- 우선 추출적 요약을 하는 과정에서 전처리가 진행된 데이터를 통해 수행하였을 때 완성된 문장으로 요약되지 않는 문제점이 발생하였습니다. 따라서 전처리가 되지 않은 original 데이터를 가지고 수행한 추출적 요약 문장과 추상적 요약 문장을 비교해 두 방법의 성능(?)에 대해 이야기해보려 합니다."
   ]
  },
  {
   "attachments": {
    "image.png": {
     "image/png": "[encoded data removed]"
    }
   },
   "cell_type": "markdown",
   "metadata": {},
   "source": [
    "![image.png](attachment:image.png)"
   ]
  },
  {
   "cell_type": "markdown",
   "metadata": {},
   "source": [
    "# 회고"
   ]
  },
  {
   "cell_type": "markdown",
   "metadata": {},
   "source": [
    "## * 이번 프로젝트에서 어려웠던 점.\n",
    "    진행과정에서는 특별히 어려운 점은 없었지만, 추상적요약과 추출적요약 결과 모두 만족스럽지 못한것 같습니다. 추출적 요약을 하는 과정에서 전처리를 수행한 문장에 대해서 Summa가 제대로 동작하지 않는 것 같았습니다. 또한, 기존 original 데이터를 가지고 수행했을 때, 같은 문장에 대한 결과값을 찾는 과정이 쉽지 않았습니다.\n",
    "    \n",
    "    \n",
    "## * 프로젝트를 진행하면서 알아낸 점 혹은 아직 모호한 점.\n",
    "    예전에도 한번 고민했던 부분이긴 한데 자연어 데이터의 경우 연속성이 있어서 패딩을 하는 과정에 있어 앞부분에 0으로 채우는 Pre 방식을 선택할 지, 뒤쪽을 0으로 채우는 Post방식을 선택할지에 대해 결정해야합니다. 이전 노드때도 Pre 방식보다 Post 방식이 성능이 더 좋았었는데, 이번 노드 역시 Post방식에서 성능이 아주 약간 더 좋았던 것 같습니다.\n",
    "    개인적으로는 Pre padding을 적용했을 때 더 성능이 좋아야 한다고 생각이 들었지만, Post padding 방식이 성능이 더 좋은 것을 보고 의아했습니다.\n",
    "    \n",
    "    \n",
    "## * 루브릭 평가 지표를 맞추기 위해 시도한 것들.\n",
    "\n",
    "1) Abstractive 모델 구성을 위한 텍스트 전처리 단계가 체계적으로 진행되었다. 분석단계, 정제단계, 정규화와 불용어 제거, 데이터셋 분리, 인코딩 과정이 빠짐없이 체계적으로 진행되었는가?\n",
    "    \n",
    "    Yes. 각 단계를 빠짐없이 순차적으로 진행하였습니다.\n",
    "    \n",
    "\n",
    "2) 텍스트 요약모델이 성공적으로 학습되었음을 확인하였다. 모델학습이 안정적으로 수렴되었음을 그래프를 통해 확인하였으며, 실제 요약문과 유사한 요약문장을 얻을 수 있었는가?\n",
    "\n",
    "    Yes. 모델 학습 과정에서 오류가 없었으며, 학습 결과를 그래프로 출력한 결과 안정적으로 수렴하는 것을 확인하였습니다. 또한, 실제 요약문과 유사한 요약 문장 결과를 얻었습니다.\n",
    "\n",
    "3) Extractive 요약을 시도해 보고 Abstractive 요약 결과와 함께 비교해보았다. 두 요약 결과를 문법 완성도 측면과 핵심 단어 포함 측면으로 나누어 비교분석 결과를 제시하였는가?\n",
    "    \n",
    "    Yes. Summa를 이용해서 추출적 요약을 시도해보았고, 추상적 요약 결과와 비교하여 비교 분석 & 결과를 제시해보았습니다."
   ]
  }
 ],
 "metadata": {
  "kernelspec": {
   "display_name": "aiffel",
   "language": "python",
   "name": "aiffel"
  },
  "language_info": {
   "codemirror_mode": {
    "name": "ipython",
    "version": 3
   },
   "file_extension": ".py",
   "mimetype": "text/x-python",
   "name": "python",
   "nbconvert_exporter": "python",
   "pygments_lexer": "ipython3",
   "version": "3.7.9"
  }
 },
 "nbformat": 4,
 "nbformat_minor": 4
}
